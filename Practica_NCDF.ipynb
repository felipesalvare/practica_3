{
  "nbformat": 4,
  "nbformat_minor": 0,
  "metadata": {
    "colab": {
      "provenance": [],
      "include_colab_link": true
    },
    "kernelspec": {
      "name": "ir",
      "display_name": "R"
    },
    "language_info": {
      "name": "R"
    }
  },
  "cells": [
    {
      "cell_type": "markdown",
      "metadata": {
        "id": "view-in-github",
        "colab_type": "text"
      },
      "source": [
        "<a href=\"https://colab.research.google.com/github/felipesalvare/practica_3/blob/main/Practica_NCDF.ipynb\" target=\"_parent\"><img src=\"https://colab.research.google.com/assets/colab-badge.svg\" alt=\"Open In Colab\"/></a>"
      ]
    },
    {
      "cell_type": "markdown",
      "source": [
        "#Google Colab\n",
        "\n",
        "\n",
        "R y Markdown en Colab/Jupyter"
      ],
      "metadata": {
        "id": "a4MJl03t1ehZ"
      }
    },
    {
      "cell_type": "markdown",
      "source": [
        "##Tipos de celdas y como ejecutarlas"
      ],
      "metadata": {
        "id": "hDt0ZLL75sIg"
      }
    },
    {
      "cell_type": "markdown",
      "source": [
        "Esto es una línea de texto (--> Hacer doble click sobre este celda para editarla <--)"
      ],
      "metadata": {
        "id": "gTPQAm39B3Or"
      }
    },
    {
      "cell_type": "code",
      "source": [
        "#Esto es una línea de código\n",
        "print(\"Hola mundo!\")"
      ],
      "metadata": {
        "id": "ygc199bQ5rc0",
        "colab": {
          "base_uri": "https://localhost:8080/"
        },
        "outputId": "e940247d-6d56-4a28-97c5-eed7dec8bb3f"
      },
      "execution_count": 1,
      "outputs": [
        {
          "output_type": "stream",
          "name": "stdout",
          "text": [
            "[1] \"Hola mundo!\"\n"
          ]
        }
      ]
    },
    {
      "cell_type": "markdown",
      "source": [
        "## Nucleo/entorno de ejecución\n",
        "\n",
        "Google Colab utiliza como entorno de ejecución Python (versión 3) y de R sobre diferentes configuraciones del equipo, como CPU o que posea además algún acelerador (utilizando GPU o TPU).\n",
        "\n",
        "Existe un límite de tiempo de uso del servicio de Colab (unas 12 horas corridas), 100 GB almacenamiento (durante la duración de la conexión) y 12 GB de RAM. Recuerden que es una Maquina Virtual, después de la finalización de la sesión se pierden los contenidos guardados (datos y variables). Solo quedan las salidas de las celdas de ejecución.\n",
        "\n",
        "Sin embargo, tanto el uso de aceleradores como los límites indicados solo se\n",
        "tornan relevantes para el caso de códigos muy complejos. No es necesario\n",
        "preocuparse por ellos para el caso de desarrollar códigos simples.\n",
        "\n",
        "\\\n",
        "**A tener en cuenta!!!**\n",
        "\n",
        "Puede ocurrir que nos pongamos a realizar otra cosa o nos fuimos a hacer a algo, y la sesión quedó abierta. Lo que ocurre es después de un tiempo de inactividad la sesión se cae. Cuando retomemos la sesión clikeando en **Reconectar**, abajo del botón \"Compartir\", suele (¡Tengan cuidado!) que los archivos que teniamos cargados se quedan aún en el entorno por lo que no es necesario volverlo a cargar.\n",
        "\n",
        "\\\n",
        "En la barra de herramientas arriba de la notebook hacia la izquierda encontraran la solapa \"Editar\", dentro de llega tienen la opción de **Configuración del Notebook**. Aca es donde pueden modificar el entorno de ejecución (Python o R) y los aceleradores que deseamos utilizar (CPU, GPU, TPU)."
      ],
      "metadata": {
        "id": "-gM7Vcoq4d54"
      }
    },
    {
      "cell_type": "markdown",
      "source": [
        "## Añadiendo celdas\n",
        "Para añadir nuevas celdas usando los botones **+ Código** and **+ Texto** que se muestran cuando pasamos el mouse entre las celdas. Estos botones se encuentran también en la barra de herramientas sobre la notebook, se añadiran debajo de la celda seleccionada.\n",
        "\n",
        "Se pueden mover una seleccionandola y haciendo click en **Mover celda hacia arriba** ⇑ o **Mover celda hacia abajo** ⇓\n",
        "\n",
        "\n",
        "Prueben con la celda de abajo:"
      ],
      "metadata": {
        "id": "itQFrk0g0y76"
      }
    },
    {
      "cell_type": "code",
      "source": [],
      "metadata": {
        "id": "5-KZGcDi21JN"
      },
      "execution_count": null,
      "outputs": []
    },
    {
      "cell_type": "markdown",
      "source": [
        "##Estética de las notebook\n",
        "\n",
        "En el engranaje al lado de nuestro perfil, encontraremos las configuraciones de aspecto para la notebook (además de Colab Pro y Github)\n",
        "- En **sitio/site** veran pueden configurar el tema de la notebook.\n",
        "- En **editor** tienen las opciones para configurar la fuente de texto en el código, cómo demás artilugios relacionados con su estructura.\n",
        "- En **varios/miscellaneous** pueden poner perros, gatitos y cangrejos caminando arriba de la notebook y en Nivel de Poder/Power Level un motivación para codear rápido.\n",
        "\n",
        "##Referencias\n",
        "\n",
        "* <a href=\"https://colab.research.google.com/?hl=es#scrollTo=lSrWNr3MuFUS\">Bienvenida a Colab</a>.\n",
        "* <a href=\"https://colab.research.google.com/notebooks/basic_features_overview.ipynb#scrollTo=_YrTcK7k22Fp\">Características</a>.\n",
        "* <a href=\"https://colab.research.google.com/notebooks/markdown_guide.ipynb\"> Guía de Markdown en Colab</a>.\n",
        "* <a href=\"https://colab.research.google.com/github/googlecolab/colabtools/blob/main/notebooks/colab-github-demo.ipynb#scrollTo=8QAWNjizy_3O\">Github</a>\n",
        "* <a href=\"https://nbviewer.org/github/ipython/ipython/blob/1.x/examples/notebooks/Cell%20Magics.ipynb\">Jupyter Magics</a> (solo Python)\n",
        "* <a href=\"https://fcaglp.unlp.edu.ar/~gbaume/grupo/Publicaciones/Apuntes/GoogleColab.pdf\">Apunte</a>"
      ],
      "metadata": {
        "id": "o0BcHeSSo-ZD"
      }
    },
    {
      "cell_type": "markdown",
      "source": [
        "#Trabajando con fechas con la libreria Lubridate"
      ],
      "metadata": {
        "id": "hcL7OWNR8R-y"
      }
    },
    {
      "cell_type": "code",
      "source": [
        "install.packages(\"lubridate\")\n",
        "library(lubridate)"
      ],
      "metadata": {
        "id": "0vvp8XTlNJQh",
        "colab": {
          "base_uri": "https://localhost:8080/"
        },
        "outputId": "57dda057-3882-4f1a-ce15-046d9428a09f"
      },
      "execution_count": 2,
      "outputs": [
        {
          "output_type": "stream",
          "name": "stderr",
          "text": [
            "Installing package into ‘/usr/local/lib/R/site-library’\n",
            "(as ‘lib’ is unspecified)\n",
            "\n",
            "\n",
            "Attaching package: ‘lubridate’\n",
            "\n",
            "\n",
            "The following objects are masked from ‘package:base’:\n",
            "\n",
            "    date, intersect, setdiff, union\n",
            "\n",
            "\n"
          ]
        }
      ]
    },
    {
      "cell_type": "markdown",
      "source": [
        "Vamos a definir una fecha y horario completo para manipularla con la función ymd_hms(fecha).\n",
        "\n",
        "Ingresen la fecha de nacimiento de ustedes en el formato **\"YYYY-MM-DD HH-mm-ss\"\"** e impriman la clase a la que corresponde:"
      ],
      "metadata": {
        "id": "ELps6azLNUBM"
      }
    },
    {
      "cell_type": "code",
      "source": [
        "fecha_nacimiento <- ymd_hms(\"2001-01-05 12:00:00\")\n",
        "fecha_nacimiento\n",
        "\n",
        "class(fecha_nacimiento)"
      ],
      "metadata": {
        "id": "VmoLhRqc82C_",
        "colab": {
          "base_uri": "https://localhost:8080/",
          "height": 52
        },
        "outputId": "15b897b2-d086-4d77-b032-c3818fedc207"
      },
      "execution_count": 5,
      "outputs": [
        {
          "output_type": "display_data",
          "data": {
            "text/plain": [
              "[1] \"2001-01-05 12:00:00 UTC\""
            ]
          },
          "metadata": {}
        },
        {
          "output_type": "display_data",
          "data": {
            "text/html": [
              "<style>\n",
              ".list-inline {list-style: none; margin:0; padding: 0}\n",
              ".list-inline>li {display: inline-block}\n",
              ".list-inline>li:not(:last-child)::after {content: \"\\00b7\"; padding: 0 .5ex}\n",
              "</style>\n",
              "<ol class=list-inline><li>'POSIXct'</li><li>'POSIXt'</li></ol>\n"
            ],
            "text/markdown": "1. 'POSIXct'\n2. 'POSIXt'\n\n\n",
            "text/latex": "\\begin{enumerate*}\n\\item 'POSIXct'\n\\item 'POSIXt'\n\\end{enumerate*}\n",
            "text/plain": [
              "[1] \"POSIXct\" \"POSIXt\" "
            ]
          },
          "metadata": {}
        }
      ]
    },
    {
      "cell_type": "markdown",
      "source": [
        "'POSIXct' (ct -> CommonTime) es una representación interna de R para guardar fechas y horas. A grandes rasgos es una codificación en su parte entera de la fecha, y en los decimales la parte de la hora."
      ],
      "metadata": {
        "id": "5IWKyL2fOZ-9"
      }
    },
    {
      "cell_type": "markdown",
      "source": [
        "Prueben de utilizar las funciones **year()**, **month()**, **day()**, **hour()**, **minute()**, **second()** sobre la variable de fecha que definimos, y vean que les devuelve."
      ],
      "metadata": {
        "id": "ZWAstaydH7xx"
      }
    },
    {
      "cell_type": "code",
      "source": [
        "year(fecha_nacimiento)\n",
        "month(fecha_nacimiento)\n",
        "day(fecha_nacimiento)\n",
        "hour(fecha_nacimiento)\n",
        "minute(fecha_nacimiento)\n",
        "second(fecha_nacimiento)"
      ],
      "metadata": {
        "id": "ldg5u7T_JSEf",
        "colab": {
          "base_uri": "https://localhost:8080/",
          "height": 121
        },
        "outputId": "fd7b45ba-8cde-4c86-82a0-446698c59180"
      },
      "execution_count": 6,
      "outputs": [
        {
          "output_type": "display_data",
          "data": {
            "text/html": [
              "2001"
            ],
            "text/markdown": "2001",
            "text/latex": "2001",
            "text/plain": [
              "[1] 2001"
            ]
          },
          "metadata": {}
        },
        {
          "output_type": "display_data",
          "data": {
            "text/html": [
              "1"
            ],
            "text/markdown": "1",
            "text/latex": "1",
            "text/plain": [
              "[1] 1"
            ]
          },
          "metadata": {}
        },
        {
          "output_type": "display_data",
          "data": {
            "text/html": [
              "5"
            ],
            "text/markdown": "5",
            "text/latex": "5",
            "text/plain": [
              "[1] 5"
            ]
          },
          "metadata": {}
        },
        {
          "output_type": "display_data",
          "data": {
            "text/html": [
              "12"
            ],
            "text/markdown": "12",
            "text/latex": "12",
            "text/plain": [
              "[1] 12"
            ]
          },
          "metadata": {}
        },
        {
          "output_type": "display_data",
          "data": {
            "text/html": [
              "0"
            ],
            "text/markdown": "0",
            "text/latex": "0",
            "text/plain": [
              "[1] 0"
            ]
          },
          "metadata": {}
        },
        {
          "output_type": "display_data",
          "data": {
            "text/html": [
              "0"
            ],
            "text/markdown": "0",
            "text/latex": "0",
            "text/plain": [
              "[1] 0"
            ]
          },
          "metadata": {}
        }
      ]
    },
    {
      "cell_type": "markdown",
      "source": [
        "##Duraciones\n",
        "\n",
        "Existe una gama de funciones llamadas de forma similar a las anteriores llamadas duraciones. A un conjunto se la escribe en plural y a otro conjunto adicionalmente a esto, se le agrega una \"d\" adelante de la duración. Si se le sumo un año a mi variable fecha. ¿Qué me devuelve?. Luego prueben de sumar 1.5 años **(No la guarden o guardenlas en un variable nueva)**\n",
        "\n",
        "* year( ) ⇒ years( ) | dyears( )\n",
        "* month( ) ⇒ months( ) | dmonths( )\n",
        "* day( ) ⇒ days( ) | ddays( )\n",
        "* hour( ) ⇒ hours( ) | dhours( )\n",
        "* minute( ) ⇒ minutes( ) | dminutes( )\n",
        "* second( ) ⇒ seconds( ) | dseconds( )"
      ],
      "metadata": {
        "id": "UPSWjArt0CmB"
      }
    },
    {
      "cell_type": "code",
      "source": [
        "fecha_nacimiento + years(1)\n",
        "fecha_nacimiento + dyears(1)"
      ],
      "metadata": {
        "id": "HXzJJ4SooTNi",
        "colab": {
          "base_uri": "https://localhost:8080/",
          "height": 52
        },
        "outputId": "ac76d147-b776-45aa-bbe8-4e4080c182f8"
      },
      "execution_count": 8,
      "outputs": [
        {
          "output_type": "display_data",
          "data": {
            "text/plain": [
              "[1] \"2002-01-05 12:00:00 UTC\""
            ]
          },
          "metadata": {}
        },
        {
          "output_type": "display_data",
          "data": {
            "text/plain": [
              "[1] \"2002-01-05 18:00:00 UTC\""
            ]
          },
          "metadata": {}
        }
      ]
    },
    {
      "cell_type": "code",
      "source": [
        "\n",
        "fecha_nacimiento + dyears(1.5)"
      ],
      "metadata": {
        "colab": {
          "base_uri": "https://localhost:8080/",
          "height": 34
        },
        "id": "6VF66BJsT8Ht",
        "outputId": "b1714539-360c-4b0d-f184-2e666eaf24ef"
      },
      "execution_count": 11,
      "outputs": [
        {
          "output_type": "display_data",
          "data": {
            "text/plain": [
              "[1] \"2002-07-07 09:00:00 UTC\""
            ]
          },
          "metadata": {}
        }
      ]
    },
    {
      "cell_type": "markdown",
      "source": [
        "Impriman years(1) e dyears(1)"
      ],
      "metadata": {
        "id": "GEDJTPANs3gK"
      }
    },
    {
      "cell_type": "markdown",
      "source": [],
      "metadata": {
        "id": "SNWGsGIvUREJ"
      }
    },
    {
      "cell_type": "code",
      "source": [
        "years(1)\n",
        "dyears(1) /60/60/24"
      ],
      "metadata": {
        "colab": {
          "base_uri": "https://localhost:8080/",
          "height": 52
        },
        "id": "5KeOJxSOUSKZ",
        "outputId": "04550b06-b22f-4a59-8b72-8326e5e83f72"
      },
      "execution_count": 14,
      "outputs": [
        {
          "output_type": "display_data",
          "data": {
            "text/html": [
              "1y 0m 0d 0H 0M 0S"
            ],
            "text/markdown": "1y 0m 0d 0H 0M 0S",
            "text/latex": "1y 0m 0d 0H 0M 0S",
            "text/plain": [
              "[1] \"1y 0m 0d 0H 0M 0S\""
            ]
          },
          "metadata": {}
        },
        {
          "output_type": "display_data",
          "data": {
            "text/html": [
              "365.25s (~6.09 minutes)"
            ],
            "text/markdown": "365.25s (~6.09 minutes)",
            "text/latex": "365.25s (\\textasciitilde{}6.09 minutes)",
            "text/plain": [
              "[1] \"365.25s (~6.09 minutes)\""
            ]
          },
          "metadata": {}
        }
      ]
    },
    {
      "cell_type": "markdown",
      "source": [
        "### Calculando diferencias entre tiempos\n",
        "\n",
        "Queremos tener el tiempo de este momento, podemos utilizar la función **now()** de lubridate que nos da la fecha y el horario del momento en que se ejecuta la línea de código.\n",
        "\n",
        "Definan la variable con now, ejecuten la variable sola y luego imprimanla por pantalla con **print** que diga algún mensaje del estilo \"El tiempo actual es: \", ¿Les devuelve lo mismo?."
      ],
      "metadata": {
        "id": "qnplzNIKIol3"
      }
    },
    {
      "cell_type": "code",
      "source": [
        "Ahora <- now()\n",
        "Ahora\n",
        "print(paste0(\"El tiempo actual es: \",Ahora))"
      ],
      "metadata": {
        "id": "ycIvURNhgnN_",
        "colab": {
          "base_uri": "https://localhost:8080/",
          "height": 52
        },
        "outputId": "37f75f70-672b-4de8-c45c-f5258b8f93b7"
      },
      "execution_count": 15,
      "outputs": [
        {
          "output_type": "display_data",
          "data": {
            "text/plain": [
              "[1] \"2023-10-26 14:14:01 UTC\""
            ]
          },
          "metadata": {}
        },
        {
          "output_type": "stream",
          "name": "stdout",
          "text": [
            "[1] \"El tiempo actual es: 2023-10-26 14:14:01.065848\"\n"
          ]
        }
      ]
    },
    {
      "cell_type": "markdown",
      "source": [
        "###Formato\n",
        "\n",
        "Para cambiar el formato de las variables de tipo fecha podemos utilizar **format()**. Es muy útil para utilizar las fechas en el formato que deseemos por ejemplo:\n",
        "\n",
        "* fecha_formato1 <- format(fecha, %d/%m/%Y %H%M%S) #Formato dd/mm/YYYY HHMMSS.\n",
        "* fecha_formato2 <- format(fecha, tz=\"\"), sigue siendo UTC, pero le sacamos que diga UTC.\n",
        "* fecha_formato3 <- format(fecha, \"%A, %d de %B de %Y\"), Wednesday, 14 de July de 2023 (Ejemplo).\n",
        "\n",
        "Prueben este formato para corregir lo que nos ocurre cuando lo usamos en un print en un mensaje."
      ],
      "metadata": {
        "id": "KMCOOd5XRQqn"
      }
    },
    {
      "cell_type": "code",
      "source": [
        "format(fecha_nacimiento,\"%A, %d de %B de %Y\")"
      ],
      "metadata": {
        "id": "0iON-gbhRQ9p",
        "colab": {
          "base_uri": "https://localhost:8080/",
          "height": 34
        },
        "outputId": "13bfef8f-eebc-400c-fc54-edff529c5b2c"
      },
      "execution_count": 17,
      "outputs": [
        {
          "output_type": "display_data",
          "data": {
            "text/html": [
              "'Friday, 05 de January de 2001'"
            ],
            "text/markdown": "'Friday, 05 de January de 2001'",
            "text/latex": "'Friday, 05 de January de 2001'",
            "text/plain": [
              "[1] \"Friday, 05 de January de 2001\""
            ]
          },
          "metadata": {}
        }
      ]
    },
    {
      "cell_type": "markdown",
      "source": [
        "###Diferencia de tiempo\n",
        "\n",
        "Con la función **difftime(fecha_ini, fecha_fin, , units = \"days\")**, podemos calcular cuanta distancia temporal exiten entre dos variables de tiempo.\n",
        "\n",
        "Queremos conocer cuanto tiempo paso entre que nacieron y este momento."
      ],
      "metadata": {
        "id": "JYGSRSKsQ_iA"
      }
    },
    {
      "cell_type": "code",
      "source": [
        "diferencia <- difftime(Ahora, fecha_nacimiento, units = \"days\")\n",
        "diferencia"
      ],
      "metadata": {
        "colab": {
          "base_uri": "https://localhost:8080/",
          "height": 34
        },
        "id": "0SeTTHl_Q-lI",
        "outputId": "0a92b858-a77b-469d-bb22-e88bd40ddbec"
      },
      "execution_count": 18,
      "outputs": [
        {
          "output_type": "display_data",
          "data": {
            "text/plain": [
              "Time difference of 8329.093 days"
            ]
          },
          "metadata": {}
        }
      ]
    },
    {
      "cell_type": "markdown",
      "source": [
        "###Practiquen\n",
        "\n",
        "¿Qué día de su vida será el 10000 de su vida? ¿Cuánto tiempo falta para eso?"
      ],
      "metadata": {
        "id": "yJGl1evvu2F7"
      }
    },
    {
      "cell_type": "code",
      "source": [
        "\n",
        "dia10000 <- fecha_nacimiento + days(10000)\n",
        "dia10000"
      ],
      "metadata": {
        "id": "ZE325zRsypwF",
        "colab": {
          "base_uri": "https://localhost:8080/",
          "height": 34
        },
        "outputId": "011f4f01-59bd-458b-cee7-77cd85f7524a"
      },
      "execution_count": 24,
      "outputs": [
        {
          "output_type": "display_data",
          "data": {
            "text/plain": [
              "[1] \"2028-05-23 12:00:00 UTC\""
            ]
          },
          "metadata": {}
        }
      ]
    },
    {
      "cell_type": "markdown",
      "source": [
        "#NetCDF\n",
        "\n",
        "NetCDF (Network Common Data Form) es un conjunto de bibliotecas de software y formatos de datos independientes de la máquina que permiten crear, acceder y compartir datos científicos orientados a matrices. También es un estándar comunitario para compartir datos científicos.\n",
        "\n",
        "El Centro de Programas <a href=\"https://www.unidata.ucar.edu/\">Unidata</a> soporta y mantiene interfaces de programación netCDF para C, C++, Java y Fortran. También hay disponibles interfaces de programación para Python, IDL, MATLAB, **R**, Ruby y Perl.\n",
        "\n",
        "##Características\n",
        "- **Autodescrito**. Un archivo netCDF incluye información sobre el que contiene.\n",
        "\n",
        "- **Portátil**. Un archivo netCDF se puede acceder por computadoras con diferentes maneras de almacenar números enteros, caracteres y punto flotante.\n",
        "\n",
        "- **Escalable**. A través de las interfaces netCDF se puede acceder eficazmente a pequeños subconjuntos de grandes conjuntos de datos en diversos formatos, incluso desde servidores remotos.\n",
        "\n",
        "- **Anexables**. Los datos pueden añadirse a un archivo netCDF correctamente estructurado sin copiar el conjunto de datos ni redefinir su estructura.\n",
        "\n",
        "- **Compartible**. Un escritor y varios lectores pueden acceder simultáneamente al mismo archivo netCDF.\n",
        "\n",
        "- **Archivable**. El acceso a todas las formas anteriores de netCDF serán compatibles con las versiones y futuras versiones del software.\n",
        "\n",
        "Más info ⇒ <a href=\"https://www.unidata.ucar.edu/publications/factsheets/current/factsheet_netcdf.pdf\">factsheets netCDF</a>."
      ],
      "metadata": {
        "id": "FI0oJz2CsDpl"
      }
    },
    {
      "cell_type": "markdown",
      "source": [
        "#Ejercicio\n",
        "\n",
        "Instalamos y llamos a las librerias que vamos a utilizar. Lubridate ya la tenemos a disposición."
      ],
      "metadata": {
        "id": "ifwiW3z8Um-v"
      }
    },
    {
      "cell_type": "code",
      "execution_count": 25,
      "metadata": {
        "id": "06UzKShaTFrT",
        "colab": {
          "base_uri": "https://localhost:8080/"
        },
        "outputId": "4e788199-511d-4a5a-8e51-bca70cc88bbc"
      },
      "outputs": [
        {
          "output_type": "stream",
          "name": "stderr",
          "text": [
            "Installing package into ‘/usr/local/lib/R/site-library’\n",
            "(as ‘lib’ is unspecified)\n",
            "\n"
          ]
        }
      ],
      "source": [
        "rm(list=ls())\n",
        "install.packages(\"ncdf4\")\n",
        "library(ncdf4)"
      ]
    },
    {
      "cell_type": "markdown",
      "source": [
        "##Descargamos un archivo NCDF\n",
        "Vamos a utilizar la función intríseca \"**download.file(url,destino)**\" de R para hacerlo. Esto nos dará un archivo de tipo .zip que luego utilizaremos la función ***unzip*** para abri dicho archivo.\n",
        "\n",
        "En este caso trabajaremos con datos de estimaciones de precipitación horarios, que es un producto disponible en el Center for Hydrometeorology and Remote Sensing (CHRS), ver <a href=\"http://chrsdata.eng.uci.edu/\">link</a>."
      ],
      "metadata": {
        "id": "vxro-sbYrn70"
      }
    },
    {
      "cell_type": "code",
      "source": [
        "url <- \"https://chrsdata.eng.uci.edu/userFile/PERSIANN-PDIR/sergiohgonzalezxmwimL.zip\"\n",
        "nombre_datos <- \"Datos_PERSIANN_PDIR.zip\"\n",
        "\n",
        "download.file(url, paste0(\"/content/\",nombre_datos))"
      ],
      "metadata": {
        "id": "H7t6aZSnLJCJ"
      },
      "execution_count": 26,
      "outputs": []
    },
    {
      "cell_type": "code",
      "source": [
        "unzip(\"/content/Datos_PERSIANN_PDIR.zip\", exdir = \"/content/\")"
      ],
      "metadata": {
        "id": "0SSQz6eQLN1w"
      },
      "execution_count": 27,
      "outputs": []
    },
    {
      "cell_type": "markdown",
      "source": [
        "## Miremos cuantos archivos tenemos"
      ],
      "metadata": {
        "id": "brcoP6eSeNqZ"
      }
    },
    {
      "cell_type": "code",
      "source": [
        "files <- list.files(\"/content/\") #Esta función me lista los archivos que se encuentran en la carpeta de destino que le indico\n",
        "files"
      ],
      "metadata": {
        "id": "geNHICfieNQ7",
        "colab": {
          "base_uri": "https://localhost:8080/",
          "height": 34
        },
        "outputId": "871705d8-109b-4f0a-98dc-2f7f6e90ce1c"
      },
      "execution_count": 28,
      "outputs": [
        {
          "output_type": "display_data",
          "data": {
            "text/html": [
              "<style>\n",
              ".list-inline {list-style: none; margin:0; padding: 0}\n",
              ".list-inline>li {display: inline-block}\n",
              ".list-inline>li:not(:last-child)::after {content: \"\\00b7\"; padding: 0 .5ex}\n",
              "</style>\n",
              "<ol class=list-inline><li>'Datos_PERSIANN_PDIR.zip'</li><li>'info.txt'</li><li>'PDIR_2023-10-25103925pm_202310.nc'</li><li>'read_netcdf.m'</li><li>'read_netcdf.py'</li><li>'sample_data'</li></ol>\n"
            ],
            "text/markdown": "1. 'Datos_PERSIANN_PDIR.zip'\n2. 'info.txt'\n3. 'PDIR_2023-10-25103925pm_202310.nc'\n4. 'read_netcdf.m'\n5. 'read_netcdf.py'\n6. 'sample_data'\n\n\n",
            "text/latex": "\\begin{enumerate*}\n\\item 'Datos\\_PERSIANN\\_PDIR.zip'\n\\item 'info.txt'\n\\item 'PDIR\\_2023-10-25103925pm\\_202310.nc'\n\\item 'read\\_netcdf.m'\n\\item 'read\\_netcdf.py'\n\\item 'sample\\_data'\n\\end{enumerate*}\n",
            "text/plain": [
              "[1] \"Datos_PERSIANN_PDIR.zip\"           \"info.txt\"                         \n",
              "[3] \"PDIR_2023-10-25103925pm_202310.nc\" \"read_netcdf.m\"                    \n",
              "[5] \"read_netcdf.py\"                    \"sample_data\"                      "
            ]
          },
          "metadata": {}
        }
      ]
    },
    {
      "cell_type": "markdown",
      "source": [
        "Miremos uno de los archivos NCDF, y lo abrimos con la función nc_open. Como vieron en la teórica y lo que más van a utilizar es si van a permitir o no la escritura del archivo, que lo determinan con el argumento **write**.\n",
        "\n",
        "\\\n",
        "***nc_open( filename, write=FALSE, readunlim=TRUE, verbose=FALSE, auto_GMT=TRUE, suppress_dimvals=FALSE, return_on_error=FALSE )***"
      ],
      "metadata": {
        "id": "gYHb2sk4b6H4"
      }
    },
    {
      "cell_type": "code",
      "source": [
        "datos_PERSIANN <- nc_open(filename = paste0(\"/content/\", files[3]) )"
      ],
      "metadata": {
        "id": "6mKz2nv2qZO0"
      },
      "execution_count": 42,
      "outputs": []
    },
    {
      "cell_type": "markdown",
      "source": [
        "Veamos que hay dentro de estos archivos, esto se puede saber llamando al archivo NCDF por pantalla (como vamos a hacer) o mirar la documentación de donde vienen los datos."
      ],
      "metadata": {
        "id": "sFthSoZlgXGX"
      }
    },
    {
      "cell_type": "code",
      "source": [
        "datos_PERSIANN"
      ],
      "metadata": {
        "id": "MU5NWViha4c4",
        "colab": {
          "base_uri": "https://localhost:8080/",
          "height": 382
        },
        "outputId": "c29161ff-18d5-40db-98ba-a585ca2b2242"
      },
      "execution_count": 43,
      "outputs": [
        {
          "output_type": "display_data",
          "data": {
            "text/plain": [
              "File /content/PDIR_2023-10-25103925pm_202310.nc (NC_FORMAT_NETCDF4):\n",
              "\n",
              "     2 variables (excluding dimension variables):\n",
              "        int crs[]   (Contiguous storage)  \n",
              "            long_name: Lon/Lat Coords in WGS84\n",
              "            grid_mapping_name: latitude_longitude\n",
              "            longitude_of_prime_meridian: 0\n",
              "            semi_major_axis: 6378137\n",
              "            inverse_flattening: 298.257223563\n",
              "        short precip[lon,lat,datetime]   (Chunking: [16,16,12])  (Compression: shuffle,level 4)\n",
              "            grid_mapping: crs\n",
              "\n",
              "     3 dimensions:\n",
              "        lon  Size:175 \n",
              "        lat  Size:275 \n",
              "        datetime  Size:144   *** is unlimited *** \n",
              "            units: hours since 2023-10-20 00\n",
              "            calendar: gregorian\n",
              "\n",
              "    1 global attributes:\n",
              "        Conventions: CF-1.6"
            ]
          },
          "metadata": {}
        }
      ]
    },
    {
      "cell_type": "markdown",
      "source": [
        "Observen toda la información que nos da el archivo:\n",
        "- La cantidad de variables.\n",
        "- El tipo de dato de cada variable, su nombre, por cuales dimensiones están conformadas, y las dimensiones.\n",
        "- Las unidades, su nombre estándar y nombre largo, con que tipo de reticulado están definidos y en que coordenadas están cada variable.\n",
        "- Las específicaciones de las dimensiones de los datos.\n",
        "- Atributos globales, estos son datos de configuración del modelo.\n",
        "\n",
        "Si queremos extraer uno de los datos podemos utilizar la función ***ncvar_get***. Y cerramos el archivo con la función ***nc_close*** , recuerden siempre de cerrar los achivos NCDF que abren y no utilizan más, porque si no llenan la memoria de archivos abiertos."
      ],
      "metadata": {
        "id": "s3t6Wt5ggzK1"
      }
    },
    {
      "cell_type": "code",
      "source": [
        "datos_PP <- ncvar_get(datos_PERSIANN, \"precip\") #Extraemos la precipitación horaria en superficie\n",
        "\n",
        "#nc_close(datos_PERSIANN)"
      ],
      "metadata": {
        "id": "_UkHwinGrpRt"
      },
      "execution_count": 59,
      "outputs": []
    },
    {
      "cell_type": "markdown",
      "source": [
        "#**Ejercicio**\n",
        "\n",
        "Con los datos que descargaron:\n",
        "\n",
        "* Imprimir por pantalla la precipitación máxima del día en la región y en que horario ocurrió. El mensaje debe estar estructurado de la siguiente manera: \"La precipitacion maxima para el dia dd de mm del YYYY ocurrio a las HH UTC y llovio  de **PP** mm.\"."
      ],
      "metadata": {
        "id": "buCKhstM1A5d"
      }
    },
    {
      "cell_type": "code",
      "source": [
        "Time <- ncvar_get(datos_PERSIANN, varid = \"datetime\")\n",
        "time <- ymd_hms(\"2023-10-20 00:00:00\") + hours(Time)\n",
        "head(time)\n",
        "144/24\n",
        "dia1 <- datos_PP[1:24]\n",
        "dia2 <- datos_PP[25:48]\n",
        "dia3 <- datos_PP[49:72]\n",
        "dia4 <- datos_PP[73:96]\n",
        "dia5 <- datos_PP[97:120]\n",
        "dia6 <- datos_PP[121:144]\n",
        "dias <- cbind(dia1,dia2,dia3,dia4,dia5,dia6)\n",
        "dias_max <- c(max(dia1),max(dia2),max(dia3),max(dia4),max(dia5),max(dia6))\n",
        "for (i in 1:6) {\n",
        "  print(paste0(\"La precipitacion maxima para el dia \",day(time[which(dias == max(dias[,i]))]),\n",
        "  \" de \",month(time[which(dias[,i] == max(dias[,i]))]),\" del \",year(time[which(dias[,i] == max(dias[,i]))]),\n",
        "  \" ocurrio a las \",hour((time[which(dias[,i] == max(dias[,i]))])),\" UTC y llovio de \",max(dias[,i]),\" mm.\"))\n",
        "\n",
        "}"
      ],
      "metadata": {
        "id": "GOSJFf9Sy8Vf",
        "colab": {
          "base_uri": "https://localhost:8080/",
          "height": 1000
        },
        "outputId": "4dae1b5b-faca-40cb-eeb5-cc3701ec3b2e"
      },
      "execution_count": 68,
      "outputs": [
        {
          "output_type": "display_data",
          "data": {
            "text/plain": [
              "[1] \"2023-10-20 00:00:00 UTC\" \"2023-10-20 01:00:00 UTC\"\n",
              "[3] \"2023-10-20 02:00:00 UTC\" \"2023-10-20 03:00:00 UTC\"\n",
              "[5] \"2023-10-20 04:00:00 UTC\" \"2023-10-20 05:00:00 UTC\""
            ]
          },
          "metadata": {}
        },
        {
          "output_type": "display_data",
          "data": {
            "text/html": [
              "6"
            ],
            "text/markdown": "6",
            "text/latex": "6",
            "text/plain": [
              "[1] 6"
            ]
          },
          "metadata": {}
        },
        {
          "output_type": "stream",
          "name": "stdout",
          "text": [
            "  [1] \"La precipitacion maxima para el dia 20 de 10 del 2023 ocurrio a las 0 UTC y llovio de 0 mm.\" \n",
            "  [2] \"La precipitacion maxima para el dia 20 de 10 del 2023 ocurrio a las 1 UTC y llovio de 0 mm.\" \n",
            "  [3] \"La precipitacion maxima para el dia 20 de 10 del 2023 ocurrio a las 2 UTC y llovio de 0 mm.\" \n",
            "  [4] \"La precipitacion maxima para el dia 20 de 10 del 2023 ocurrio a las 3 UTC y llovio de 0 mm.\" \n",
            "  [5] \"La precipitacion maxima para el dia 20 de 10 del 2023 ocurrio a las 4 UTC y llovio de 0 mm.\" \n",
            "  [6] \"La precipitacion maxima para el dia 20 de 10 del 2023 ocurrio a las 5 UTC y llovio de 0 mm.\" \n",
            "  [7] \"La precipitacion maxima para el dia 20 de 10 del 2023 ocurrio a las 6 UTC y llovio de 0 mm.\" \n",
            "  [8] \"La precipitacion maxima para el dia 20 de 10 del 2023 ocurrio a las 7 UTC y llovio de 0 mm.\" \n",
            "  [9] \"La precipitacion maxima para el dia 20 de 10 del 2023 ocurrio a las 8 UTC y llovio de 0 mm.\" \n",
            " [10] \"La precipitacion maxima para el dia 20 de 10 del 2023 ocurrio a las 9 UTC y llovio de 0 mm.\" \n",
            " [11] \"La precipitacion maxima para el dia 20 de 10 del 2023 ocurrio a las 10 UTC y llovio de 0 mm.\"\n",
            " [12] \"La precipitacion maxima para el dia 20 de 10 del 2023 ocurrio a las 11 UTC y llovio de 0 mm.\"\n",
            " [13] \"La precipitacion maxima para el dia 20 de 10 del 2023 ocurrio a las 12 UTC y llovio de 0 mm.\"\n",
            " [14] \"La precipitacion maxima para el dia 20 de 10 del 2023 ocurrio a las 13 UTC y llovio de 0 mm.\"\n",
            " [15] \"La precipitacion maxima para el dia 20 de 10 del 2023 ocurrio a las 14 UTC y llovio de 0 mm.\"\n",
            " [16] \"La precipitacion maxima para el dia 20 de 10 del 2023 ocurrio a las 15 UTC y llovio de 0 mm.\"\n",
            " [17] \"La precipitacion maxima para el dia 20 de 10 del 2023 ocurrio a las 16 UTC y llovio de 0 mm.\"\n",
            " [18] \"La precipitacion maxima para el dia 20 de 10 del 2023 ocurrio a las 17 UTC y llovio de 0 mm.\"\n",
            " [19] \"La precipitacion maxima para el dia 20 de 10 del 2023 ocurrio a las 18 UTC y llovio de 0 mm.\"\n",
            " [20] \"La precipitacion maxima para el dia 20 de 10 del 2023 ocurrio a las 19 UTC y llovio de 0 mm.\"\n",
            " [21] \"La precipitacion maxima para el dia 20 de 10 del 2023 ocurrio a las 20 UTC y llovio de 0 mm.\"\n",
            " [22] \"La precipitacion maxima para el dia 20 de 10 del 2023 ocurrio a las 21 UTC y llovio de 0 mm.\"\n",
            " [23] \"La precipitacion maxima para el dia 20 de 10 del 2023 ocurrio a las 22 UTC y llovio de 0 mm.\"\n",
            " [24] \"La precipitacion maxima para el dia 20 de 10 del 2023 ocurrio a las 23 UTC y llovio de 0 mm.\"\n",
            " [25] \"La precipitacion maxima para el dia 21 de 10 del 2023 ocurrio a las 0 UTC y llovio de 0 mm.\" \n",
            " [26] \"La precipitacion maxima para el dia 21 de 10 del 2023 ocurrio a las 1 UTC y llovio de 0 mm.\" \n",
            " [27] \"La precipitacion maxima para el dia 21 de 10 del 2023 ocurrio a las 2 UTC y llovio de 0 mm.\" \n",
            " [28] \"La precipitacion maxima para el dia 21 de 10 del 2023 ocurrio a las 3 UTC y llovio de 0 mm.\" \n",
            " [29] \"La precipitacion maxima para el dia 21 de 10 del 2023 ocurrio a las 4 UTC y llovio de 0 mm.\" \n",
            " [30] \"La precipitacion maxima para el dia 21 de 10 del 2023 ocurrio a las 5 UTC y llovio de 0 mm.\" \n",
            " [31] \"La precipitacion maxima para el dia 21 de 10 del 2023 ocurrio a las 6 UTC y llovio de 0 mm.\" \n",
            " [32] \"La precipitacion maxima para el dia 21 de 10 del 2023 ocurrio a las 7 UTC y llovio de 0 mm.\" \n",
            " [33] \"La precipitacion maxima para el dia 21 de 10 del 2023 ocurrio a las 8 UTC y llovio de 0 mm.\" \n",
            " [34] \"La precipitacion maxima para el dia 21 de 10 del 2023 ocurrio a las 9 UTC y llovio de 0 mm.\" \n",
            " [35] \"La precipitacion maxima para el dia 21 de 10 del 2023 ocurrio a las 10 UTC y llovio de 0 mm.\"\n",
            " [36] \"La precipitacion maxima para el dia 21 de 10 del 2023 ocurrio a las 11 UTC y llovio de 0 mm.\"\n",
            " [37] \"La precipitacion maxima para el dia 21 de 10 del 2023 ocurrio a las 12 UTC y llovio de 0 mm.\"\n",
            " [38] \"La precipitacion maxima para el dia 21 de 10 del 2023 ocurrio a las 13 UTC y llovio de 0 mm.\"\n",
            " [39] \"La precipitacion maxima para el dia 21 de 10 del 2023 ocurrio a las 14 UTC y llovio de 0 mm.\"\n",
            " [40] \"La precipitacion maxima para el dia 21 de 10 del 2023 ocurrio a las 15 UTC y llovio de 0 mm.\"\n",
            " [41] \"La precipitacion maxima para el dia 21 de 10 del 2023 ocurrio a las 16 UTC y llovio de 0 mm.\"\n",
            " [42] \"La precipitacion maxima para el dia 21 de 10 del 2023 ocurrio a las 17 UTC y llovio de 0 mm.\"\n",
            " [43] \"La precipitacion maxima para el dia 21 de 10 del 2023 ocurrio a las 18 UTC y llovio de 0 mm.\"\n",
            " [44] \"La precipitacion maxima para el dia 21 de 10 del 2023 ocurrio a las 19 UTC y llovio de 0 mm.\"\n",
            " [45] \"La precipitacion maxima para el dia 21 de 10 del 2023 ocurrio a las 20 UTC y llovio de 0 mm.\"\n",
            " [46] \"La precipitacion maxima para el dia 21 de 10 del 2023 ocurrio a las 21 UTC y llovio de 0 mm.\"\n",
            " [47] \"La precipitacion maxima para el dia 21 de 10 del 2023 ocurrio a las 22 UTC y llovio de 0 mm.\"\n",
            " [48] \"La precipitacion maxima para el dia 21 de 10 del 2023 ocurrio a las 23 UTC y llovio de 0 mm.\"\n",
            " [49] \"La precipitacion maxima para el dia 22 de 10 del 2023 ocurrio a las 0 UTC y llovio de 0 mm.\" \n",
            " [50] \"La precipitacion maxima para el dia 22 de 10 del 2023 ocurrio a las 1 UTC y llovio de 0 mm.\" \n",
            " [51] \"La precipitacion maxima para el dia 22 de 10 del 2023 ocurrio a las 2 UTC y llovio de 0 mm.\" \n",
            " [52] \"La precipitacion maxima para el dia 22 de 10 del 2023 ocurrio a las 3 UTC y llovio de 0 mm.\" \n",
            " [53] \"La precipitacion maxima para el dia 22 de 10 del 2023 ocurrio a las 4 UTC y llovio de 0 mm.\" \n",
            " [54] \"La precipitacion maxima para el dia 22 de 10 del 2023 ocurrio a las 5 UTC y llovio de 0 mm.\" \n",
            " [55] \"La precipitacion maxima para el dia 22 de 10 del 2023 ocurrio a las 6 UTC y llovio de 0 mm.\" \n",
            " [56] \"La precipitacion maxima para el dia 22 de 10 del 2023 ocurrio a las 7 UTC y llovio de 0 mm.\" \n",
            " [57] \"La precipitacion maxima para el dia 22 de 10 del 2023 ocurrio a las 8 UTC y llovio de 0 mm.\" \n",
            " [58] \"La precipitacion maxima para el dia 22 de 10 del 2023 ocurrio a las 9 UTC y llovio de 0 mm.\" \n",
            " [59] \"La precipitacion maxima para el dia 22 de 10 del 2023 ocurrio a las 10 UTC y llovio de 0 mm.\"\n",
            " [60] \"La precipitacion maxima para el dia 22 de 10 del 2023 ocurrio a las 11 UTC y llovio de 0 mm.\"\n",
            " [61] \"La precipitacion maxima para el dia 22 de 10 del 2023 ocurrio a las 12 UTC y llovio de 0 mm.\"\n",
            " [62] \"La precipitacion maxima para el dia 22 de 10 del 2023 ocurrio a las 13 UTC y llovio de 0 mm.\"\n",
            " [63] \"La precipitacion maxima para el dia 22 de 10 del 2023 ocurrio a las 14 UTC y llovio de 0 mm.\"\n",
            " [64] \"La precipitacion maxima para el dia 22 de 10 del 2023 ocurrio a las 15 UTC y llovio de 0 mm.\"\n",
            " [65] \"La precipitacion maxima para el dia 22 de 10 del 2023 ocurrio a las 16 UTC y llovio de 0 mm.\"\n",
            " [66] \"La precipitacion maxima para el dia 22 de 10 del 2023 ocurrio a las 17 UTC y llovio de 0 mm.\"\n",
            " [67] \"La precipitacion maxima para el dia 22 de 10 del 2023 ocurrio a las 18 UTC y llovio de 0 mm.\"\n",
            " [68] \"La precipitacion maxima para el dia 22 de 10 del 2023 ocurrio a las 19 UTC y llovio de 0 mm.\"\n",
            " [69] \"La precipitacion maxima para el dia 22 de 10 del 2023 ocurrio a las 20 UTC y llovio de 0 mm.\"\n",
            " [70] \"La precipitacion maxima para el dia 22 de 10 del 2023 ocurrio a las 21 UTC y llovio de 0 mm.\"\n",
            " [71] \"La precipitacion maxima para el dia 22 de 10 del 2023 ocurrio a las 22 UTC y llovio de 0 mm.\"\n",
            " [72] \"La precipitacion maxima para el dia 22 de 10 del 2023 ocurrio a las 23 UTC y llovio de 0 mm.\"\n",
            " [73] \"La precipitacion maxima para el dia 23 de 10 del 2023 ocurrio a las 0 UTC y llovio de 0 mm.\" \n",
            " [74] \"La precipitacion maxima para el dia 23 de 10 del 2023 ocurrio a las 1 UTC y llovio de 0 mm.\" \n",
            " [75] \"La precipitacion maxima para el dia 23 de 10 del 2023 ocurrio a las 2 UTC y llovio de 0 mm.\" \n",
            " [76] \"La precipitacion maxima para el dia 23 de 10 del 2023 ocurrio a las 3 UTC y llovio de 0 mm.\" \n",
            " [77] \"La precipitacion maxima para el dia 23 de 10 del 2023 ocurrio a las 4 UTC y llovio de 0 mm.\" \n",
            " [78] \"La precipitacion maxima para el dia 23 de 10 del 2023 ocurrio a las 5 UTC y llovio de 0 mm.\" \n",
            " [79] \"La precipitacion maxima para el dia 23 de 10 del 2023 ocurrio a las 6 UTC y llovio de 0 mm.\" \n",
            " [80] \"La precipitacion maxima para el dia 23 de 10 del 2023 ocurrio a las 7 UTC y llovio de 0 mm.\" \n",
            " [81] \"La precipitacion maxima para el dia 23 de 10 del 2023 ocurrio a las 8 UTC y llovio de 0 mm.\" \n",
            " [82] \"La precipitacion maxima para el dia 23 de 10 del 2023 ocurrio a las 9 UTC y llovio de 0 mm.\" \n",
            " [83] \"La precipitacion maxima para el dia 23 de 10 del 2023 ocurrio a las 10 UTC y llovio de 0 mm.\"\n",
            " [84] \"La precipitacion maxima para el dia 23 de 10 del 2023 ocurrio a las 11 UTC y llovio de 0 mm.\"\n",
            " [85] \"La precipitacion maxima para el dia 23 de 10 del 2023 ocurrio a las 12 UTC y llovio de 0 mm.\"\n",
            " [86] \"La precipitacion maxima para el dia 23 de 10 del 2023 ocurrio a las 13 UTC y llovio de 0 mm.\"\n",
            " [87] \"La precipitacion maxima para el dia 23 de 10 del 2023 ocurrio a las 14 UTC y llovio de 0 mm.\"\n",
            " [88] \"La precipitacion maxima para el dia 23 de 10 del 2023 ocurrio a las 15 UTC y llovio de 0 mm.\"\n",
            " [89] \"La precipitacion maxima para el dia 23 de 10 del 2023 ocurrio a las 16 UTC y llovio de 0 mm.\"\n",
            " [90] \"La precipitacion maxima para el dia 23 de 10 del 2023 ocurrio a las 17 UTC y llovio de 0 mm.\"\n",
            " [91] \"La precipitacion maxima para el dia 23 de 10 del 2023 ocurrio a las 18 UTC y llovio de 0 mm.\"\n",
            " [92] \"La precipitacion maxima para el dia 23 de 10 del 2023 ocurrio a las 19 UTC y llovio de 0 mm.\"\n",
            " [93] \"La precipitacion maxima para el dia 23 de 10 del 2023 ocurrio a las 20 UTC y llovio de 0 mm.\"\n",
            " [94] \"La precipitacion maxima para el dia 23 de 10 del 2023 ocurrio a las 21 UTC y llovio de 0 mm.\"\n",
            " [95] \"La precipitacion maxima para el dia 23 de 10 del 2023 ocurrio a las 22 UTC y llovio de 0 mm.\"\n",
            " [96] \"La precipitacion maxima para el dia 23 de 10 del 2023 ocurrio a las 23 UTC y llovio de 0 mm.\"\n",
            " [97] \"La precipitacion maxima para el dia 24 de 10 del 2023 ocurrio a las 0 UTC y llovio de 0 mm.\" \n",
            " [98] \"La precipitacion maxima para el dia 24 de 10 del 2023 ocurrio a las 1 UTC y llovio de 0 mm.\" \n",
            " [99] \"La precipitacion maxima para el dia 24 de 10 del 2023 ocurrio a las 2 UTC y llovio de 0 mm.\" \n",
            "[100] \"La precipitacion maxima para el dia 24 de 10 del 2023 ocurrio a las 3 UTC y llovio de 0 mm.\" \n",
            "[101] \"La precipitacion maxima para el dia 24 de 10 del 2023 ocurrio a las 4 UTC y llovio de 0 mm.\" \n",
            "[102] \"La precipitacion maxima para el dia 24 de 10 del 2023 ocurrio a las 5 UTC y llovio de 0 mm.\" \n",
            "[103] \"La precipitacion maxima para el dia 24 de 10 del 2023 ocurrio a las 6 UTC y llovio de 0 mm.\" \n",
            "[104] \"La precipitacion maxima para el dia 24 de 10 del 2023 ocurrio a las 7 UTC y llovio de 0 mm.\" \n",
            "[105] \"La precipitacion maxima para el dia 24 de 10 del 2023 ocurrio a las 8 UTC y llovio de 0 mm.\" \n",
            "[106] \"La precipitacion maxima para el dia 24 de 10 del 2023 ocurrio a las 9 UTC y llovio de 0 mm.\" \n",
            "[107] \"La precipitacion maxima para el dia 24 de 10 del 2023 ocurrio a las 10 UTC y llovio de 0 mm.\"\n",
            "[108] \"La precipitacion maxima para el dia 24 de 10 del 2023 ocurrio a las 11 UTC y llovio de 0 mm.\"\n",
            "[109] \"La precipitacion maxima para el dia 24 de 10 del 2023 ocurrio a las 12 UTC y llovio de 0 mm.\"\n",
            "[110] \"La precipitacion maxima para el dia 24 de 10 del 2023 ocurrio a las 13 UTC y llovio de 0 mm.\"\n",
            "[111] \"La precipitacion maxima para el dia 24 de 10 del 2023 ocurrio a las 14 UTC y llovio de 0 mm.\"\n",
            "[112] \"La precipitacion maxima para el dia 24 de 10 del 2023 ocurrio a las 15 UTC y llovio de 0 mm.\"\n",
            "[113] \"La precipitacion maxima para el dia 24 de 10 del 2023 ocurrio a las 16 UTC y llovio de 0 mm.\"\n",
            "[114] \"La precipitacion maxima para el dia 24 de 10 del 2023 ocurrio a las 17 UTC y llovio de 0 mm.\"\n",
            "[115] \"La precipitacion maxima para el dia 24 de 10 del 2023 ocurrio a las 18 UTC y llovio de 0 mm.\"\n",
            "[116] \"La precipitacion maxima para el dia 24 de 10 del 2023 ocurrio a las 19 UTC y llovio de 0 mm.\"\n",
            "[117] \"La precipitacion maxima para el dia 24 de 10 del 2023 ocurrio a las 20 UTC y llovio de 0 mm.\"\n",
            "[118] \"La precipitacion maxima para el dia 24 de 10 del 2023 ocurrio a las 21 UTC y llovio de 0 mm.\"\n",
            "[119] \"La precipitacion maxima para el dia 24 de 10 del 2023 ocurrio a las 22 UTC y llovio de 0 mm.\"\n",
            "[120] \"La precipitacion maxima para el dia 24 de 10 del 2023 ocurrio a las 23 UTC y llovio de 0 mm.\"\n",
            "[121] \"La precipitacion maxima para el dia 25 de 10 del 2023 ocurrio a las 0 UTC y llovio de 0 mm.\" \n",
            "[122] \"La precipitacion maxima para el dia 25 de 10 del 2023 ocurrio a las 1 UTC y llovio de 0 mm.\" \n",
            "[123] \"La precipitacion maxima para el dia 25 de 10 del 2023 ocurrio a las 2 UTC y llovio de 0 mm.\" \n",
            "[124] \"La precipitacion maxima para el dia 25 de 10 del 2023 ocurrio a las 3 UTC y llovio de 0 mm.\" \n",
            "[125] \"La precipitacion maxima para el dia 25 de 10 del 2023 ocurrio a las 4 UTC y llovio de 0 mm.\" \n",
            "[126] \"La precipitacion maxima para el dia 25 de 10 del 2023 ocurrio a las 5 UTC y llovio de 0 mm.\" \n",
            "[127] \"La precipitacion maxima para el dia 25 de 10 del 2023 ocurrio a las 6 UTC y llovio de 0 mm.\" \n",
            "[128] \"La precipitacion maxima para el dia 25 de 10 del 2023 ocurrio a las 7 UTC y llovio de 0 mm.\" \n",
            "[129] \"La precipitacion maxima para el dia 25 de 10 del 2023 ocurrio a las 8 UTC y llovio de 0 mm.\" \n",
            "[130] \"La precipitacion maxima para el dia 25 de 10 del 2023 ocurrio a las 9 UTC y llovio de 0 mm.\" \n",
            "[131] \"La precipitacion maxima para el dia 25 de 10 del 2023 ocurrio a las 10 UTC y llovio de 0 mm.\"\n",
            "[132] \"La precipitacion maxima para el dia 25 de 10 del 2023 ocurrio a las 11 UTC y llovio de 0 mm.\"\n",
            "[133] \"La precipitacion maxima para el dia 25 de 10 del 2023 ocurrio a las 12 UTC y llovio de 0 mm.\"\n",
            "[134] \"La precipitacion maxima para el dia 25 de 10 del 2023 ocurrio a las 13 UTC y llovio de 0 mm.\"\n",
            "[135] \"La precipitacion maxima para el dia 25 de 10 del 2023 ocurrio a las 14 UTC y llovio de 0 mm.\"\n",
            "[136] \"La precipitacion maxima para el dia 25 de 10 del 2023 ocurrio a las 15 UTC y llovio de 0 mm.\"\n",
            "[137] \"La precipitacion maxima para el dia 25 de 10 del 2023 ocurrio a las 16 UTC y llovio de 0 mm.\"\n",
            "[138] \"La precipitacion maxima para el dia 25 de 10 del 2023 ocurrio a las 17 UTC y llovio de 0 mm.\"\n",
            "[139] \"La precipitacion maxima para el dia 25 de 10 del 2023 ocurrio a las 18 UTC y llovio de 0 mm.\"\n",
            "[140] \"La precipitacion maxima para el dia 25 de 10 del 2023 ocurrio a las 19 UTC y llovio de 0 mm.\"\n",
            "[141] \"La precipitacion maxima para el dia 25 de 10 del 2023 ocurrio a las 20 UTC y llovio de 0 mm.\"\n",
            "[142] \"La precipitacion maxima para el dia 25 de 10 del 2023 ocurrio a las 21 UTC y llovio de 0 mm.\"\n",
            "[143] \"La precipitacion maxima para el dia 25 de 10 del 2023 ocurrio a las 22 UTC y llovio de 0 mm.\"\n",
            "[144] \"La precipitacion maxima para el dia 25 de 10 del 2023 ocurrio a las 23 UTC y llovio de 0 mm.\"\n",
            "  [1] \"La precipitacion maxima para el dia 20 de 10 del 2023 ocurrio a las 0 UTC y llovio de 0 mm.\" \n",
            "  [2] \"La precipitacion maxima para el dia 20 de 10 del 2023 ocurrio a las 1 UTC y llovio de 0 mm.\" \n",
            "  [3] \"La precipitacion maxima para el dia 20 de 10 del 2023 ocurrio a las 2 UTC y llovio de 0 mm.\" \n",
            "  [4] \"La precipitacion maxima para el dia 20 de 10 del 2023 ocurrio a las 3 UTC y llovio de 0 mm.\" \n",
            "  [5] \"La precipitacion maxima para el dia 20 de 10 del 2023 ocurrio a las 4 UTC y llovio de 0 mm.\" \n",
            "  [6] \"La precipitacion maxima para el dia 20 de 10 del 2023 ocurrio a las 5 UTC y llovio de 0 mm.\" \n",
            "  [7] \"La precipitacion maxima para el dia 20 de 10 del 2023 ocurrio a las 6 UTC y llovio de 0 mm.\" \n",
            "  [8] \"La precipitacion maxima para el dia 20 de 10 del 2023 ocurrio a las 7 UTC y llovio de 0 mm.\" \n",
            "  [9] \"La precipitacion maxima para el dia 20 de 10 del 2023 ocurrio a las 8 UTC y llovio de 0 mm.\" \n",
            " [10] \"La precipitacion maxima para el dia 20 de 10 del 2023 ocurrio a las 9 UTC y llovio de 0 mm.\" \n",
            " [11] \"La precipitacion maxima para el dia 20 de 10 del 2023 ocurrio a las 10 UTC y llovio de 0 mm.\"\n",
            " [12] \"La precipitacion maxima para el dia 20 de 10 del 2023 ocurrio a las 11 UTC y llovio de 0 mm.\"\n",
            " [13] \"La precipitacion maxima para el dia 20 de 10 del 2023 ocurrio a las 12 UTC y llovio de 0 mm.\"\n",
            " [14] \"La precipitacion maxima para el dia 20 de 10 del 2023 ocurrio a las 13 UTC y llovio de 0 mm.\"\n",
            " [15] \"La precipitacion maxima para el dia 20 de 10 del 2023 ocurrio a las 14 UTC y llovio de 0 mm.\"\n",
            " [16] \"La precipitacion maxima para el dia 20 de 10 del 2023 ocurrio a las 15 UTC y llovio de 0 mm.\"\n",
            " [17] \"La precipitacion maxima para el dia 20 de 10 del 2023 ocurrio a las 16 UTC y llovio de 0 mm.\"\n",
            " [18] \"La precipitacion maxima para el dia 20 de 10 del 2023 ocurrio a las 17 UTC y llovio de 0 mm.\"\n",
            " [19] \"La precipitacion maxima para el dia 20 de 10 del 2023 ocurrio a las 18 UTC y llovio de 0 mm.\"\n",
            " [20] \"La precipitacion maxima para el dia 20 de 10 del 2023 ocurrio a las 19 UTC y llovio de 0 mm.\"\n",
            " [21] \"La precipitacion maxima para el dia 20 de 10 del 2023 ocurrio a las 20 UTC y llovio de 0 mm.\"\n",
            " [22] \"La precipitacion maxima para el dia 20 de 10 del 2023 ocurrio a las 21 UTC y llovio de 0 mm.\"\n",
            " [23] \"La precipitacion maxima para el dia 20 de 10 del 2023 ocurrio a las 22 UTC y llovio de 0 mm.\"\n",
            " [24] \"La precipitacion maxima para el dia 20 de 10 del 2023 ocurrio a las 23 UTC y llovio de 0 mm.\"\n",
            " [25] \"La precipitacion maxima para el dia 21 de 10 del 2023 ocurrio a las 0 UTC y llovio de 0 mm.\" \n",
            " [26] \"La precipitacion maxima para el dia 21 de 10 del 2023 ocurrio a las 1 UTC y llovio de 0 mm.\" \n",
            " [27] \"La precipitacion maxima para el dia 21 de 10 del 2023 ocurrio a las 2 UTC y llovio de 0 mm.\" \n",
            " [28] \"La precipitacion maxima para el dia 21 de 10 del 2023 ocurrio a las 3 UTC y llovio de 0 mm.\" \n",
            " [29] \"La precipitacion maxima para el dia 21 de 10 del 2023 ocurrio a las 4 UTC y llovio de 0 mm.\" \n",
            " [30] \"La precipitacion maxima para el dia 21 de 10 del 2023 ocurrio a las 5 UTC y llovio de 0 mm.\" \n",
            " [31] \"La precipitacion maxima para el dia 21 de 10 del 2023 ocurrio a las 6 UTC y llovio de 0 mm.\" \n",
            " [32] \"La precipitacion maxima para el dia 21 de 10 del 2023 ocurrio a las 7 UTC y llovio de 0 mm.\" \n",
            " [33] \"La precipitacion maxima para el dia 21 de 10 del 2023 ocurrio a las 8 UTC y llovio de 0 mm.\" \n",
            " [34] \"La precipitacion maxima para el dia 21 de 10 del 2023 ocurrio a las 9 UTC y llovio de 0 mm.\" \n",
            " [35] \"La precipitacion maxima para el dia 21 de 10 del 2023 ocurrio a las 10 UTC y llovio de 0 mm.\"\n",
            " [36] \"La precipitacion maxima para el dia 21 de 10 del 2023 ocurrio a las 11 UTC y llovio de 0 mm.\"\n",
            " [37] \"La precipitacion maxima para el dia 21 de 10 del 2023 ocurrio a las 12 UTC y llovio de 0 mm.\"\n",
            " [38] \"La precipitacion maxima para el dia 21 de 10 del 2023 ocurrio a las 13 UTC y llovio de 0 mm.\"\n",
            " [39] \"La precipitacion maxima para el dia 21 de 10 del 2023 ocurrio a las 14 UTC y llovio de 0 mm.\"\n",
            " [40] \"La precipitacion maxima para el dia 21 de 10 del 2023 ocurrio a las 15 UTC y llovio de 0 mm.\"\n",
            " [41] \"La precipitacion maxima para el dia 21 de 10 del 2023 ocurrio a las 16 UTC y llovio de 0 mm.\"\n",
            " [42] \"La precipitacion maxima para el dia 21 de 10 del 2023 ocurrio a las 17 UTC y llovio de 0 mm.\"\n",
            " [43] \"La precipitacion maxima para el dia 21 de 10 del 2023 ocurrio a las 18 UTC y llovio de 0 mm.\"\n",
            " [44] \"La precipitacion maxima para el dia 21 de 10 del 2023 ocurrio a las 19 UTC y llovio de 0 mm.\"\n",
            " [45] \"La precipitacion maxima para el dia 21 de 10 del 2023 ocurrio a las 20 UTC y llovio de 0 mm.\"\n",
            " [46] \"La precipitacion maxima para el dia 21 de 10 del 2023 ocurrio a las 21 UTC y llovio de 0 mm.\"\n",
            " [47] \"La precipitacion maxima para el dia 21 de 10 del 2023 ocurrio a las 22 UTC y llovio de 0 mm.\"\n",
            " [48] \"La precipitacion maxima para el dia 21 de 10 del 2023 ocurrio a las 23 UTC y llovio de 0 mm.\"\n",
            " [49] \"La precipitacion maxima para el dia 22 de 10 del 2023 ocurrio a las 0 UTC y llovio de 0 mm.\" \n",
            " [50] \"La precipitacion maxima para el dia 22 de 10 del 2023 ocurrio a las 1 UTC y llovio de 0 mm.\" \n",
            " [51] \"La precipitacion maxima para el dia 22 de 10 del 2023 ocurrio a las 2 UTC y llovio de 0 mm.\" \n",
            " [52] \"La precipitacion maxima para el dia 22 de 10 del 2023 ocurrio a las 3 UTC y llovio de 0 mm.\" \n",
            " [53] \"La precipitacion maxima para el dia 22 de 10 del 2023 ocurrio a las 4 UTC y llovio de 0 mm.\" \n",
            " [54] \"La precipitacion maxima para el dia 22 de 10 del 2023 ocurrio a las 5 UTC y llovio de 0 mm.\" \n",
            " [55] \"La precipitacion maxima para el dia 22 de 10 del 2023 ocurrio a las 6 UTC y llovio de 0 mm.\" \n",
            " [56] \"La precipitacion maxima para el dia 22 de 10 del 2023 ocurrio a las 7 UTC y llovio de 0 mm.\" \n",
            " [57] \"La precipitacion maxima para el dia 22 de 10 del 2023 ocurrio a las 8 UTC y llovio de 0 mm.\" \n",
            " [58] \"La precipitacion maxima para el dia 22 de 10 del 2023 ocurrio a las 9 UTC y llovio de 0 mm.\" \n",
            " [59] \"La precipitacion maxima para el dia 22 de 10 del 2023 ocurrio a las 10 UTC y llovio de 0 mm.\"\n",
            " [60] \"La precipitacion maxima para el dia 22 de 10 del 2023 ocurrio a las 11 UTC y llovio de 0 mm.\"\n",
            " [61] \"La precipitacion maxima para el dia 22 de 10 del 2023 ocurrio a las 12 UTC y llovio de 0 mm.\"\n",
            " [62] \"La precipitacion maxima para el dia 22 de 10 del 2023 ocurrio a las 13 UTC y llovio de 0 mm.\"\n",
            " [63] \"La precipitacion maxima para el dia 22 de 10 del 2023 ocurrio a las 14 UTC y llovio de 0 mm.\"\n",
            " [64] \"La precipitacion maxima para el dia 22 de 10 del 2023 ocurrio a las 15 UTC y llovio de 0 mm.\"\n",
            " [65] \"La precipitacion maxima para el dia 22 de 10 del 2023 ocurrio a las 16 UTC y llovio de 0 mm.\"\n",
            " [66] \"La precipitacion maxima para el dia 22 de 10 del 2023 ocurrio a las 17 UTC y llovio de 0 mm.\"\n",
            " [67] \"La precipitacion maxima para el dia 22 de 10 del 2023 ocurrio a las 18 UTC y llovio de 0 mm.\"\n",
            " [68] \"La precipitacion maxima para el dia 22 de 10 del 2023 ocurrio a las 19 UTC y llovio de 0 mm.\"\n",
            " [69] \"La precipitacion maxima para el dia 22 de 10 del 2023 ocurrio a las 20 UTC y llovio de 0 mm.\"\n",
            " [70] \"La precipitacion maxima para el dia 22 de 10 del 2023 ocurrio a las 21 UTC y llovio de 0 mm.\"\n",
            " [71] \"La precipitacion maxima para el dia 22 de 10 del 2023 ocurrio a las 22 UTC y llovio de 0 mm.\"\n",
            " [72] \"La precipitacion maxima para el dia 22 de 10 del 2023 ocurrio a las 23 UTC y llovio de 0 mm.\"\n",
            " [73] \"La precipitacion maxima para el dia 23 de 10 del 2023 ocurrio a las 0 UTC y llovio de 0 mm.\" \n",
            " [74] \"La precipitacion maxima para el dia 23 de 10 del 2023 ocurrio a las 1 UTC y llovio de 0 mm.\" \n",
            " [75] \"La precipitacion maxima para el dia 23 de 10 del 2023 ocurrio a las 2 UTC y llovio de 0 mm.\" \n",
            " [76] \"La precipitacion maxima para el dia 23 de 10 del 2023 ocurrio a las 3 UTC y llovio de 0 mm.\" \n",
            " [77] \"La precipitacion maxima para el dia 23 de 10 del 2023 ocurrio a las 4 UTC y llovio de 0 mm.\" \n",
            " [78] \"La precipitacion maxima para el dia 23 de 10 del 2023 ocurrio a las 5 UTC y llovio de 0 mm.\" \n",
            " [79] \"La precipitacion maxima para el dia 23 de 10 del 2023 ocurrio a las 6 UTC y llovio de 0 mm.\" \n",
            " [80] \"La precipitacion maxima para el dia 23 de 10 del 2023 ocurrio a las 7 UTC y llovio de 0 mm.\" \n",
            " [81] \"La precipitacion maxima para el dia 23 de 10 del 2023 ocurrio a las 8 UTC y llovio de 0 mm.\" \n",
            " [82] \"La precipitacion maxima para el dia 23 de 10 del 2023 ocurrio a las 9 UTC y llovio de 0 mm.\" \n",
            " [83] \"La precipitacion maxima para el dia 23 de 10 del 2023 ocurrio a las 10 UTC y llovio de 0 mm.\"\n",
            " [84] \"La precipitacion maxima para el dia 23 de 10 del 2023 ocurrio a las 11 UTC y llovio de 0 mm.\"\n",
            " [85] \"La precipitacion maxima para el dia 23 de 10 del 2023 ocurrio a las 12 UTC y llovio de 0 mm.\"\n",
            " [86] \"La precipitacion maxima para el dia 23 de 10 del 2023 ocurrio a las 13 UTC y llovio de 0 mm.\"\n",
            " [87] \"La precipitacion maxima para el dia 23 de 10 del 2023 ocurrio a las 14 UTC y llovio de 0 mm.\"\n",
            " [88] \"La precipitacion maxima para el dia 23 de 10 del 2023 ocurrio a las 15 UTC y llovio de 0 mm.\"\n",
            " [89] \"La precipitacion maxima para el dia 23 de 10 del 2023 ocurrio a las 16 UTC y llovio de 0 mm.\"\n",
            " [90] \"La precipitacion maxima para el dia 23 de 10 del 2023 ocurrio a las 17 UTC y llovio de 0 mm.\"\n",
            " [91] \"La precipitacion maxima para el dia 23 de 10 del 2023 ocurrio a las 18 UTC y llovio de 0 mm.\"\n",
            " [92] \"La precipitacion maxima para el dia 23 de 10 del 2023 ocurrio a las 19 UTC y llovio de 0 mm.\"\n",
            " [93] \"La precipitacion maxima para el dia 23 de 10 del 2023 ocurrio a las 20 UTC y llovio de 0 mm.\"\n",
            " [94] \"La precipitacion maxima para el dia 23 de 10 del 2023 ocurrio a las 21 UTC y llovio de 0 mm.\"\n",
            " [95] \"La precipitacion maxima para el dia 23 de 10 del 2023 ocurrio a las 22 UTC y llovio de 0 mm.\"\n",
            " [96] \"La precipitacion maxima para el dia 23 de 10 del 2023 ocurrio a las 23 UTC y llovio de 0 mm.\"\n",
            " [97] \"La precipitacion maxima para el dia 24 de 10 del 2023 ocurrio a las 0 UTC y llovio de 0 mm.\" \n",
            " [98] \"La precipitacion maxima para el dia 24 de 10 del 2023 ocurrio a las 1 UTC y llovio de 0 mm.\" \n",
            " [99] \"La precipitacion maxima para el dia 24 de 10 del 2023 ocurrio a las 2 UTC y llovio de 0 mm.\" \n",
            "[100] \"La precipitacion maxima para el dia 24 de 10 del 2023 ocurrio a las 3 UTC y llovio de 0 mm.\" \n",
            "[101] \"La precipitacion maxima para el dia 24 de 10 del 2023 ocurrio a las 4 UTC y llovio de 0 mm.\" \n",
            "[102] \"La precipitacion maxima para el dia 24 de 10 del 2023 ocurrio a las 5 UTC y llovio de 0 mm.\" \n",
            "[103] \"La precipitacion maxima para el dia 24 de 10 del 2023 ocurrio a las 6 UTC y llovio de 0 mm.\" \n",
            "[104] \"La precipitacion maxima para el dia 24 de 10 del 2023 ocurrio a las 7 UTC y llovio de 0 mm.\" \n",
            "[105] \"La precipitacion maxima para el dia 24 de 10 del 2023 ocurrio a las 8 UTC y llovio de 0 mm.\" \n",
            "[106] \"La precipitacion maxima para el dia 24 de 10 del 2023 ocurrio a las 9 UTC y llovio de 0 mm.\" \n",
            "[107] \"La precipitacion maxima para el dia 24 de 10 del 2023 ocurrio a las 10 UTC y llovio de 0 mm.\"\n",
            "[108] \"La precipitacion maxima para el dia 24 de 10 del 2023 ocurrio a las 11 UTC y llovio de 0 mm.\"\n",
            "[109] \"La precipitacion maxima para el dia 24 de 10 del 2023 ocurrio a las 12 UTC y llovio de 0 mm.\"\n",
            "[110] \"La precipitacion maxima para el dia 24 de 10 del 2023 ocurrio a las 13 UTC y llovio de 0 mm.\"\n",
            "[111] \"La precipitacion maxima para el dia 24 de 10 del 2023 ocurrio a las 14 UTC y llovio de 0 mm.\"\n",
            "[112] \"La precipitacion maxima para el dia 24 de 10 del 2023 ocurrio a las 15 UTC y llovio de 0 mm.\"\n",
            "[113] \"La precipitacion maxima para el dia 24 de 10 del 2023 ocurrio a las 16 UTC y llovio de 0 mm.\"\n",
            "[114] \"La precipitacion maxima para el dia 24 de 10 del 2023 ocurrio a las 17 UTC y llovio de 0 mm.\"\n",
            "[115] \"La precipitacion maxima para el dia 24 de 10 del 2023 ocurrio a las 18 UTC y llovio de 0 mm.\"\n",
            "[116] \"La precipitacion maxima para el dia 24 de 10 del 2023 ocurrio a las 19 UTC y llovio de 0 mm.\"\n",
            "[117] \"La precipitacion maxima para el dia 24 de 10 del 2023 ocurrio a las 20 UTC y llovio de 0 mm.\"\n",
            "[118] \"La precipitacion maxima para el dia 24 de 10 del 2023 ocurrio a las 21 UTC y llovio de 0 mm.\"\n",
            "[119] \"La precipitacion maxima para el dia 24 de 10 del 2023 ocurrio a las 22 UTC y llovio de 0 mm.\"\n",
            "[120] \"La precipitacion maxima para el dia 24 de 10 del 2023 ocurrio a las 23 UTC y llovio de 0 mm.\"\n",
            "[121] \"La precipitacion maxima para el dia 25 de 10 del 2023 ocurrio a las 0 UTC y llovio de 0 mm.\" \n",
            "[122] \"La precipitacion maxima para el dia 25 de 10 del 2023 ocurrio a las 1 UTC y llovio de 0 mm.\" \n",
            "[123] \"La precipitacion maxima para el dia 25 de 10 del 2023 ocurrio a las 2 UTC y llovio de 0 mm.\" \n",
            "[124] \"La precipitacion maxima para el dia 25 de 10 del 2023 ocurrio a las 3 UTC y llovio de 0 mm.\" \n",
            "[125] \"La precipitacion maxima para el dia 25 de 10 del 2023 ocurrio a las 4 UTC y llovio de 0 mm.\" \n",
            "[126] \"La precipitacion maxima para el dia 25 de 10 del 2023 ocurrio a las 5 UTC y llovio de 0 mm.\" \n",
            "[127] \"La precipitacion maxima para el dia 25 de 10 del 2023 ocurrio a las 6 UTC y llovio de 0 mm.\" \n",
            "[128] \"La precipitacion maxima para el dia 25 de 10 del 2023 ocurrio a las 7 UTC y llovio de 0 mm.\" \n",
            "[129] \"La precipitacion maxima para el dia 25 de 10 del 2023 ocurrio a las 8 UTC y llovio de 0 mm.\" \n",
            "[130] \"La precipitacion maxima para el dia 25 de 10 del 2023 ocurrio a las 9 UTC y llovio de 0 mm.\" \n",
            "[131] \"La precipitacion maxima para el dia 25 de 10 del 2023 ocurrio a las 10 UTC y llovio de 0 mm.\"\n",
            "[132] \"La precipitacion maxima para el dia 25 de 10 del 2023 ocurrio a las 11 UTC y llovio de 0 mm.\"\n",
            "[133] \"La precipitacion maxima para el dia 25 de 10 del 2023 ocurrio a las 12 UTC y llovio de 0 mm.\"\n",
            "[134] \"La precipitacion maxima para el dia 25 de 10 del 2023 ocurrio a las 13 UTC y llovio de 0 mm.\"\n",
            "[135] \"La precipitacion maxima para el dia 25 de 10 del 2023 ocurrio a las 14 UTC y llovio de 0 mm.\"\n",
            "[136] \"La precipitacion maxima para el dia 25 de 10 del 2023 ocurrio a las 15 UTC y llovio de 0 mm.\"\n",
            "[137] \"La precipitacion maxima para el dia 25 de 10 del 2023 ocurrio a las 16 UTC y llovio de 0 mm.\"\n",
            "[138] \"La precipitacion maxima para el dia 25 de 10 del 2023 ocurrio a las 17 UTC y llovio de 0 mm.\"\n",
            "[139] \"La precipitacion maxima para el dia 25 de 10 del 2023 ocurrio a las 18 UTC y llovio de 0 mm.\"\n",
            "[140] \"La precipitacion maxima para el dia 25 de 10 del 2023 ocurrio a las 19 UTC y llovio de 0 mm.\"\n",
            "[141] \"La precipitacion maxima para el dia 25 de 10 del 2023 ocurrio a las 20 UTC y llovio de 0 mm.\"\n",
            "[142] \"La precipitacion maxima para el dia 25 de 10 del 2023 ocurrio a las 21 UTC y llovio de 0 mm.\"\n",
            "[143] \"La precipitacion maxima para el dia 25 de 10 del 2023 ocurrio a las 22 UTC y llovio de 0 mm.\"\n",
            "[144] \"La precipitacion maxima para el dia 25 de 10 del 2023 ocurrio a las 23 UTC y llovio de 0 mm.\"\n",
            "  [1] \"La precipitacion maxima para el dia 20 de 10 del 2023 ocurrio a las 0 UTC y llovio de 0 mm.\" \n",
            "  [2] \"La precipitacion maxima para el dia 20 de 10 del 2023 ocurrio a las 1 UTC y llovio de 0 mm.\" \n",
            "  [3] \"La precipitacion maxima para el dia 20 de 10 del 2023 ocurrio a las 2 UTC y llovio de 0 mm.\" \n",
            "  [4] \"La precipitacion maxima para el dia 20 de 10 del 2023 ocurrio a las 3 UTC y llovio de 0 mm.\" \n",
            "  [5] \"La precipitacion maxima para el dia 20 de 10 del 2023 ocurrio a las 4 UTC y llovio de 0 mm.\" \n",
            "  [6] \"La precipitacion maxima para el dia 20 de 10 del 2023 ocurrio a las 5 UTC y llovio de 0 mm.\" \n",
            "  [7] \"La precipitacion maxima para el dia 20 de 10 del 2023 ocurrio a las 6 UTC y llovio de 0 mm.\" \n",
            "  [8] \"La precipitacion maxima para el dia 20 de 10 del 2023 ocurrio a las 7 UTC y llovio de 0 mm.\" \n",
            "  [9] \"La precipitacion maxima para el dia 20 de 10 del 2023 ocurrio a las 8 UTC y llovio de 0 mm.\" \n",
            " [10] \"La precipitacion maxima para el dia 20 de 10 del 2023 ocurrio a las 9 UTC y llovio de 0 mm.\" \n",
            " [11] \"La precipitacion maxima para el dia 20 de 10 del 2023 ocurrio a las 10 UTC y llovio de 0 mm.\"\n",
            " [12] \"La precipitacion maxima para el dia 20 de 10 del 2023 ocurrio a las 11 UTC y llovio de 0 mm.\"\n",
            " [13] \"La precipitacion maxima para el dia 20 de 10 del 2023 ocurrio a las 12 UTC y llovio de 0 mm.\"\n",
            " [14] \"La precipitacion maxima para el dia 20 de 10 del 2023 ocurrio a las 13 UTC y llovio de 0 mm.\"\n",
            " [15] \"La precipitacion maxima para el dia 20 de 10 del 2023 ocurrio a las 14 UTC y llovio de 0 mm.\"\n",
            " [16] \"La precipitacion maxima para el dia 20 de 10 del 2023 ocurrio a las 15 UTC y llovio de 0 mm.\"\n",
            " [17] \"La precipitacion maxima para el dia 20 de 10 del 2023 ocurrio a las 16 UTC y llovio de 0 mm.\"\n",
            " [18] \"La precipitacion maxima para el dia 20 de 10 del 2023 ocurrio a las 17 UTC y llovio de 0 mm.\"\n",
            " [19] \"La precipitacion maxima para el dia 20 de 10 del 2023 ocurrio a las 18 UTC y llovio de 0 mm.\"\n",
            " [20] \"La precipitacion maxima para el dia 20 de 10 del 2023 ocurrio a las 19 UTC y llovio de 0 mm.\"\n",
            " [21] \"La precipitacion maxima para el dia 20 de 10 del 2023 ocurrio a las 20 UTC y llovio de 0 mm.\"\n",
            " [22] \"La precipitacion maxima para el dia 20 de 10 del 2023 ocurrio a las 21 UTC y llovio de 0 mm.\"\n",
            " [23] \"La precipitacion maxima para el dia 20 de 10 del 2023 ocurrio a las 22 UTC y llovio de 0 mm.\"\n",
            " [24] \"La precipitacion maxima para el dia 20 de 10 del 2023 ocurrio a las 23 UTC y llovio de 0 mm.\"\n",
            " [25] \"La precipitacion maxima para el dia 21 de 10 del 2023 ocurrio a las 0 UTC y llovio de 0 mm.\" \n",
            " [26] \"La precipitacion maxima para el dia 21 de 10 del 2023 ocurrio a las 1 UTC y llovio de 0 mm.\" \n",
            " [27] \"La precipitacion maxima para el dia 21 de 10 del 2023 ocurrio a las 2 UTC y llovio de 0 mm.\" \n",
            " [28] \"La precipitacion maxima para el dia 21 de 10 del 2023 ocurrio a las 3 UTC y llovio de 0 mm.\" \n",
            " [29] \"La precipitacion maxima para el dia 21 de 10 del 2023 ocurrio a las 4 UTC y llovio de 0 mm.\" \n",
            " [30] \"La precipitacion maxima para el dia 21 de 10 del 2023 ocurrio a las 5 UTC y llovio de 0 mm.\" \n",
            " [31] \"La precipitacion maxima para el dia 21 de 10 del 2023 ocurrio a las 6 UTC y llovio de 0 mm.\" \n",
            " [32] \"La precipitacion maxima para el dia 21 de 10 del 2023 ocurrio a las 7 UTC y llovio de 0 mm.\" \n",
            " [33] \"La precipitacion maxima para el dia 21 de 10 del 2023 ocurrio a las 8 UTC y llovio de 0 mm.\" \n",
            " [34] \"La precipitacion maxima para el dia 21 de 10 del 2023 ocurrio a las 9 UTC y llovio de 0 mm.\" \n",
            " [35] \"La precipitacion maxima para el dia 21 de 10 del 2023 ocurrio a las 10 UTC y llovio de 0 mm.\"\n",
            " [36] \"La precipitacion maxima para el dia 21 de 10 del 2023 ocurrio a las 11 UTC y llovio de 0 mm.\"\n",
            " [37] \"La precipitacion maxima para el dia 21 de 10 del 2023 ocurrio a las 12 UTC y llovio de 0 mm.\"\n",
            " [38] \"La precipitacion maxima para el dia 21 de 10 del 2023 ocurrio a las 13 UTC y llovio de 0 mm.\"\n",
            " [39] \"La precipitacion maxima para el dia 21 de 10 del 2023 ocurrio a las 14 UTC y llovio de 0 mm.\"\n",
            " [40] \"La precipitacion maxima para el dia 21 de 10 del 2023 ocurrio a las 15 UTC y llovio de 0 mm.\"\n",
            " [41] \"La precipitacion maxima para el dia 21 de 10 del 2023 ocurrio a las 16 UTC y llovio de 0 mm.\"\n",
            " [42] \"La precipitacion maxima para el dia 21 de 10 del 2023 ocurrio a las 17 UTC y llovio de 0 mm.\"\n",
            " [43] \"La precipitacion maxima para el dia 21 de 10 del 2023 ocurrio a las 18 UTC y llovio de 0 mm.\"\n",
            " [44] \"La precipitacion maxima para el dia 21 de 10 del 2023 ocurrio a las 19 UTC y llovio de 0 mm.\"\n",
            " [45] \"La precipitacion maxima para el dia 21 de 10 del 2023 ocurrio a las 20 UTC y llovio de 0 mm.\"\n",
            " [46] \"La precipitacion maxima para el dia 21 de 10 del 2023 ocurrio a las 21 UTC y llovio de 0 mm.\"\n",
            " [47] \"La precipitacion maxima para el dia 21 de 10 del 2023 ocurrio a las 22 UTC y llovio de 0 mm.\"\n",
            " [48] \"La precipitacion maxima para el dia 21 de 10 del 2023 ocurrio a las 23 UTC y llovio de 0 mm.\"\n",
            " [49] \"La precipitacion maxima para el dia 22 de 10 del 2023 ocurrio a las 0 UTC y llovio de 0 mm.\" \n",
            " [50] \"La precipitacion maxima para el dia 22 de 10 del 2023 ocurrio a las 1 UTC y llovio de 0 mm.\" \n",
            " [51] \"La precipitacion maxima para el dia 22 de 10 del 2023 ocurrio a las 2 UTC y llovio de 0 mm.\" \n",
            " [52] \"La precipitacion maxima para el dia 22 de 10 del 2023 ocurrio a las 3 UTC y llovio de 0 mm.\" \n",
            " [53] \"La precipitacion maxima para el dia 22 de 10 del 2023 ocurrio a las 4 UTC y llovio de 0 mm.\" \n",
            " [54] \"La precipitacion maxima para el dia 22 de 10 del 2023 ocurrio a las 5 UTC y llovio de 0 mm.\" \n",
            " [55] \"La precipitacion maxima para el dia 22 de 10 del 2023 ocurrio a las 6 UTC y llovio de 0 mm.\" \n",
            " [56] \"La precipitacion maxima para el dia 22 de 10 del 2023 ocurrio a las 7 UTC y llovio de 0 mm.\" \n",
            " [57] \"La precipitacion maxima para el dia 22 de 10 del 2023 ocurrio a las 8 UTC y llovio de 0 mm.\" \n",
            " [58] \"La precipitacion maxima para el dia 22 de 10 del 2023 ocurrio a las 9 UTC y llovio de 0 mm.\" \n",
            " [59] \"La precipitacion maxima para el dia 22 de 10 del 2023 ocurrio a las 10 UTC y llovio de 0 mm.\"\n",
            " [60] \"La precipitacion maxima para el dia 22 de 10 del 2023 ocurrio a las 11 UTC y llovio de 0 mm.\"\n",
            " [61] \"La precipitacion maxima para el dia 22 de 10 del 2023 ocurrio a las 12 UTC y llovio de 0 mm.\"\n",
            " [62] \"La precipitacion maxima para el dia 22 de 10 del 2023 ocurrio a las 13 UTC y llovio de 0 mm.\"\n",
            " [63] \"La precipitacion maxima para el dia 22 de 10 del 2023 ocurrio a las 14 UTC y llovio de 0 mm.\"\n",
            " [64] \"La precipitacion maxima para el dia 22 de 10 del 2023 ocurrio a las 15 UTC y llovio de 0 mm.\"\n",
            " [65] \"La precipitacion maxima para el dia 22 de 10 del 2023 ocurrio a las 16 UTC y llovio de 0 mm.\"\n",
            " [66] \"La precipitacion maxima para el dia 22 de 10 del 2023 ocurrio a las 17 UTC y llovio de 0 mm.\"\n",
            " [67] \"La precipitacion maxima para el dia 22 de 10 del 2023 ocurrio a las 18 UTC y llovio de 0 mm.\"\n",
            " [68] \"La precipitacion maxima para el dia 22 de 10 del 2023 ocurrio a las 19 UTC y llovio de 0 mm.\"\n",
            " [69] \"La precipitacion maxima para el dia 22 de 10 del 2023 ocurrio a las 20 UTC y llovio de 0 mm.\"\n",
            " [70] \"La precipitacion maxima para el dia 22 de 10 del 2023 ocurrio a las 21 UTC y llovio de 0 mm.\"\n",
            " [71] \"La precipitacion maxima para el dia 22 de 10 del 2023 ocurrio a las 22 UTC y llovio de 0 mm.\"\n",
            " [72] \"La precipitacion maxima para el dia 22 de 10 del 2023 ocurrio a las 23 UTC y llovio de 0 mm.\"\n",
            " [73] \"La precipitacion maxima para el dia 23 de 10 del 2023 ocurrio a las 0 UTC y llovio de 0 mm.\" \n",
            " [74] \"La precipitacion maxima para el dia 23 de 10 del 2023 ocurrio a las 1 UTC y llovio de 0 mm.\" \n",
            " [75] \"La precipitacion maxima para el dia 23 de 10 del 2023 ocurrio a las 2 UTC y llovio de 0 mm.\" \n",
            " [76] \"La precipitacion maxima para el dia 23 de 10 del 2023 ocurrio a las 3 UTC y llovio de 0 mm.\" \n",
            " [77] \"La precipitacion maxima para el dia 23 de 10 del 2023 ocurrio a las 4 UTC y llovio de 0 mm.\" \n",
            " [78] \"La precipitacion maxima para el dia 23 de 10 del 2023 ocurrio a las 5 UTC y llovio de 0 mm.\" \n",
            " [79] \"La precipitacion maxima para el dia 23 de 10 del 2023 ocurrio a las 6 UTC y llovio de 0 mm.\" \n",
            " [80] \"La precipitacion maxima para el dia 23 de 10 del 2023 ocurrio a las 7 UTC y llovio de 0 mm.\" \n",
            " [81] \"La precipitacion maxima para el dia 23 de 10 del 2023 ocurrio a las 8 UTC y llovio de 0 mm.\" \n",
            " [82] \"La precipitacion maxima para el dia 23 de 10 del 2023 ocurrio a las 9 UTC y llovio de 0 mm.\" \n",
            " [83] \"La precipitacion maxima para el dia 23 de 10 del 2023 ocurrio a las 10 UTC y llovio de 0 mm.\"\n",
            " [84] \"La precipitacion maxima para el dia 23 de 10 del 2023 ocurrio a las 11 UTC y llovio de 0 mm.\"\n",
            " [85] \"La precipitacion maxima para el dia 23 de 10 del 2023 ocurrio a las 12 UTC y llovio de 0 mm.\"\n",
            " [86] \"La precipitacion maxima para el dia 23 de 10 del 2023 ocurrio a las 13 UTC y llovio de 0 mm.\"\n",
            " [87] \"La precipitacion maxima para el dia 23 de 10 del 2023 ocurrio a las 14 UTC y llovio de 0 mm.\"\n",
            " [88] \"La precipitacion maxima para el dia 23 de 10 del 2023 ocurrio a las 15 UTC y llovio de 0 mm.\"\n",
            " [89] \"La precipitacion maxima para el dia 23 de 10 del 2023 ocurrio a las 16 UTC y llovio de 0 mm.\"\n",
            " [90] \"La precipitacion maxima para el dia 23 de 10 del 2023 ocurrio a las 17 UTC y llovio de 0 mm.\"\n",
            " [91] \"La precipitacion maxima para el dia 23 de 10 del 2023 ocurrio a las 18 UTC y llovio de 0 mm.\"\n",
            " [92] \"La precipitacion maxima para el dia 23 de 10 del 2023 ocurrio a las 19 UTC y llovio de 0 mm.\"\n",
            " [93] \"La precipitacion maxima para el dia 23 de 10 del 2023 ocurrio a las 20 UTC y llovio de 0 mm.\"\n",
            " [94] \"La precipitacion maxima para el dia 23 de 10 del 2023 ocurrio a las 21 UTC y llovio de 0 mm.\"\n",
            " [95] \"La precipitacion maxima para el dia 23 de 10 del 2023 ocurrio a las 22 UTC y llovio de 0 mm.\"\n",
            " [96] \"La precipitacion maxima para el dia 23 de 10 del 2023 ocurrio a las 23 UTC y llovio de 0 mm.\"\n",
            " [97] \"La precipitacion maxima para el dia 24 de 10 del 2023 ocurrio a las 0 UTC y llovio de 0 mm.\" \n",
            " [98] \"La precipitacion maxima para el dia 24 de 10 del 2023 ocurrio a las 1 UTC y llovio de 0 mm.\" \n",
            " [99] \"La precipitacion maxima para el dia 24 de 10 del 2023 ocurrio a las 2 UTC y llovio de 0 mm.\" \n",
            "[100] \"La precipitacion maxima para el dia 24 de 10 del 2023 ocurrio a las 3 UTC y llovio de 0 mm.\" \n",
            "[101] \"La precipitacion maxima para el dia 24 de 10 del 2023 ocurrio a las 4 UTC y llovio de 0 mm.\" \n",
            "[102] \"La precipitacion maxima para el dia 24 de 10 del 2023 ocurrio a las 5 UTC y llovio de 0 mm.\" \n",
            "[103] \"La precipitacion maxima para el dia 24 de 10 del 2023 ocurrio a las 6 UTC y llovio de 0 mm.\" \n",
            "[104] \"La precipitacion maxima para el dia 24 de 10 del 2023 ocurrio a las 7 UTC y llovio de 0 mm.\" \n",
            "[105] \"La precipitacion maxima para el dia 24 de 10 del 2023 ocurrio a las 8 UTC y llovio de 0 mm.\" \n",
            "[106] \"La precipitacion maxima para el dia 24 de 10 del 2023 ocurrio a las 9 UTC y llovio de 0 mm.\" \n",
            "[107] \"La precipitacion maxima para el dia 24 de 10 del 2023 ocurrio a las 10 UTC y llovio de 0 mm.\"\n",
            "[108] \"La precipitacion maxima para el dia 24 de 10 del 2023 ocurrio a las 11 UTC y llovio de 0 mm.\"\n",
            "[109] \"La precipitacion maxima para el dia 24 de 10 del 2023 ocurrio a las 12 UTC y llovio de 0 mm.\"\n",
            "[110] \"La precipitacion maxima para el dia 24 de 10 del 2023 ocurrio a las 13 UTC y llovio de 0 mm.\"\n",
            "[111] \"La precipitacion maxima para el dia 24 de 10 del 2023 ocurrio a las 14 UTC y llovio de 0 mm.\"\n",
            "[112] \"La precipitacion maxima para el dia 24 de 10 del 2023 ocurrio a las 15 UTC y llovio de 0 mm.\"\n",
            "[113] \"La precipitacion maxima para el dia 24 de 10 del 2023 ocurrio a las 16 UTC y llovio de 0 mm.\"\n",
            "[114] \"La precipitacion maxima para el dia 24 de 10 del 2023 ocurrio a las 17 UTC y llovio de 0 mm.\"\n",
            "[115] \"La precipitacion maxima para el dia 24 de 10 del 2023 ocurrio a las 18 UTC y llovio de 0 mm.\"\n",
            "[116] \"La precipitacion maxima para el dia 24 de 10 del 2023 ocurrio a las 19 UTC y llovio de 0 mm.\"\n",
            "[117] \"La precipitacion maxima para el dia 24 de 10 del 2023 ocurrio a las 20 UTC y llovio de 0 mm.\"\n",
            "[118] \"La precipitacion maxima para el dia 24 de 10 del 2023 ocurrio a las 21 UTC y llovio de 0 mm.\"\n",
            "[119] \"La precipitacion maxima para el dia 24 de 10 del 2023 ocurrio a las 22 UTC y llovio de 0 mm.\"\n",
            "[120] \"La precipitacion maxima para el dia 24 de 10 del 2023 ocurrio a las 23 UTC y llovio de 0 mm.\"\n",
            "[121] \"La precipitacion maxima para el dia 25 de 10 del 2023 ocurrio a las 0 UTC y llovio de 0 mm.\" \n",
            "[122] \"La precipitacion maxima para el dia 25 de 10 del 2023 ocurrio a las 1 UTC y llovio de 0 mm.\" \n",
            "[123] \"La precipitacion maxima para el dia 25 de 10 del 2023 ocurrio a las 2 UTC y llovio de 0 mm.\" \n",
            "[124] \"La precipitacion maxima para el dia 25 de 10 del 2023 ocurrio a las 3 UTC y llovio de 0 mm.\" \n",
            "[125] \"La precipitacion maxima para el dia 25 de 10 del 2023 ocurrio a las 4 UTC y llovio de 0 mm.\" \n",
            "[126] \"La precipitacion maxima para el dia 25 de 10 del 2023 ocurrio a las 5 UTC y llovio de 0 mm.\" \n",
            "[127] \"La precipitacion maxima para el dia 25 de 10 del 2023 ocurrio a las 6 UTC y llovio de 0 mm.\" \n",
            "[128] \"La precipitacion maxima para el dia 25 de 10 del 2023 ocurrio a las 7 UTC y llovio de 0 mm.\" \n",
            "[129] \"La precipitacion maxima para el dia 25 de 10 del 2023 ocurrio a las 8 UTC y llovio de 0 mm.\" \n",
            "[130] \"La precipitacion maxima para el dia 25 de 10 del 2023 ocurrio a las 9 UTC y llovio de 0 mm.\" \n",
            "[131] \"La precipitacion maxima para el dia 25 de 10 del 2023 ocurrio a las 10 UTC y llovio de 0 mm.\"\n",
            "[132] \"La precipitacion maxima para el dia 25 de 10 del 2023 ocurrio a las 11 UTC y llovio de 0 mm.\"\n",
            "[133] \"La precipitacion maxima para el dia 25 de 10 del 2023 ocurrio a las 12 UTC y llovio de 0 mm.\"\n",
            "[134] \"La precipitacion maxima para el dia 25 de 10 del 2023 ocurrio a las 13 UTC y llovio de 0 mm.\"\n",
            "[135] \"La precipitacion maxima para el dia 25 de 10 del 2023 ocurrio a las 14 UTC y llovio de 0 mm.\"\n",
            "[136] \"La precipitacion maxima para el dia 25 de 10 del 2023 ocurrio a las 15 UTC y llovio de 0 mm.\"\n",
            "[137] \"La precipitacion maxima para el dia 25 de 10 del 2023 ocurrio a las 16 UTC y llovio de 0 mm.\"\n",
            "[138] \"La precipitacion maxima para el dia 25 de 10 del 2023 ocurrio a las 17 UTC y llovio de 0 mm.\"\n",
            "[139] \"La precipitacion maxima para el dia 25 de 10 del 2023 ocurrio a las 18 UTC y llovio de 0 mm.\"\n",
            "[140] \"La precipitacion maxima para el dia 25 de 10 del 2023 ocurrio a las 19 UTC y llovio de 0 mm.\"\n",
            "[141] \"La precipitacion maxima para el dia 25 de 10 del 2023 ocurrio a las 20 UTC y llovio de 0 mm.\"\n",
            "[142] \"La precipitacion maxima para el dia 25 de 10 del 2023 ocurrio a las 21 UTC y llovio de 0 mm.\"\n",
            "[143] \"La precipitacion maxima para el dia 25 de 10 del 2023 ocurrio a las 22 UTC y llovio de 0 mm.\"\n",
            "[144] \"La precipitacion maxima para el dia 25 de 10 del 2023 ocurrio a las 23 UTC y llovio de 0 mm.\"\n",
            "  [1] \"La precipitacion maxima para el dia 20 de 10 del 2023 ocurrio a las 0 UTC y llovio de 0 mm.\" \n",
            "  [2] \"La precipitacion maxima para el dia 20 de 10 del 2023 ocurrio a las 1 UTC y llovio de 0 mm.\" \n",
            "  [3] \"La precipitacion maxima para el dia 20 de 10 del 2023 ocurrio a las 2 UTC y llovio de 0 mm.\" \n",
            "  [4] \"La precipitacion maxima para el dia 20 de 10 del 2023 ocurrio a las 3 UTC y llovio de 0 mm.\" \n",
            "  [5] \"La precipitacion maxima para el dia 20 de 10 del 2023 ocurrio a las 4 UTC y llovio de 0 mm.\" \n",
            "  [6] \"La precipitacion maxima para el dia 20 de 10 del 2023 ocurrio a las 5 UTC y llovio de 0 mm.\" \n",
            "  [7] \"La precipitacion maxima para el dia 20 de 10 del 2023 ocurrio a las 6 UTC y llovio de 0 mm.\" \n",
            "  [8] \"La precipitacion maxima para el dia 20 de 10 del 2023 ocurrio a las 7 UTC y llovio de 0 mm.\" \n",
            "  [9] \"La precipitacion maxima para el dia 20 de 10 del 2023 ocurrio a las 8 UTC y llovio de 0 mm.\" \n",
            " [10] \"La precipitacion maxima para el dia 20 de 10 del 2023 ocurrio a las 9 UTC y llovio de 0 mm.\" \n",
            " [11] \"La precipitacion maxima para el dia 20 de 10 del 2023 ocurrio a las 10 UTC y llovio de 0 mm.\"\n",
            " [12] \"La precipitacion maxima para el dia 20 de 10 del 2023 ocurrio a las 11 UTC y llovio de 0 mm.\"\n",
            " [13] \"La precipitacion maxima para el dia 20 de 10 del 2023 ocurrio a las 12 UTC y llovio de 0 mm.\"\n",
            " [14] \"La precipitacion maxima para el dia 20 de 10 del 2023 ocurrio a las 13 UTC y llovio de 0 mm.\"\n",
            " [15] \"La precipitacion maxima para el dia 20 de 10 del 2023 ocurrio a las 14 UTC y llovio de 0 mm.\"\n",
            " [16] \"La precipitacion maxima para el dia 20 de 10 del 2023 ocurrio a las 15 UTC y llovio de 0 mm.\"\n",
            " [17] \"La precipitacion maxima para el dia 20 de 10 del 2023 ocurrio a las 16 UTC y llovio de 0 mm.\"\n",
            " [18] \"La precipitacion maxima para el dia 20 de 10 del 2023 ocurrio a las 17 UTC y llovio de 0 mm.\"\n",
            " [19] \"La precipitacion maxima para el dia 20 de 10 del 2023 ocurrio a las 18 UTC y llovio de 0 mm.\"\n",
            " [20] \"La precipitacion maxima para el dia 20 de 10 del 2023 ocurrio a las 19 UTC y llovio de 0 mm.\"\n",
            " [21] \"La precipitacion maxima para el dia 20 de 10 del 2023 ocurrio a las 20 UTC y llovio de 0 mm.\"\n",
            " [22] \"La precipitacion maxima para el dia 20 de 10 del 2023 ocurrio a las 21 UTC y llovio de 0 mm.\"\n",
            " [23] \"La precipitacion maxima para el dia 20 de 10 del 2023 ocurrio a las 22 UTC y llovio de 0 mm.\"\n",
            " [24] \"La precipitacion maxima para el dia 20 de 10 del 2023 ocurrio a las 23 UTC y llovio de 0 mm.\"\n",
            " [25] \"La precipitacion maxima para el dia 21 de 10 del 2023 ocurrio a las 0 UTC y llovio de 0 mm.\" \n",
            " [26] \"La precipitacion maxima para el dia 21 de 10 del 2023 ocurrio a las 1 UTC y llovio de 0 mm.\" \n",
            " [27] \"La precipitacion maxima para el dia 21 de 10 del 2023 ocurrio a las 2 UTC y llovio de 0 mm.\" \n",
            " [28] \"La precipitacion maxima para el dia 21 de 10 del 2023 ocurrio a las 3 UTC y llovio de 0 mm.\" \n",
            " [29] \"La precipitacion maxima para el dia 21 de 10 del 2023 ocurrio a las 4 UTC y llovio de 0 mm.\" \n",
            " [30] \"La precipitacion maxima para el dia 21 de 10 del 2023 ocurrio a las 5 UTC y llovio de 0 mm.\" \n",
            " [31] \"La precipitacion maxima para el dia 21 de 10 del 2023 ocurrio a las 6 UTC y llovio de 0 mm.\" \n",
            " [32] \"La precipitacion maxima para el dia 21 de 10 del 2023 ocurrio a las 7 UTC y llovio de 0 mm.\" \n",
            " [33] \"La precipitacion maxima para el dia 21 de 10 del 2023 ocurrio a las 8 UTC y llovio de 0 mm.\" \n",
            " [34] \"La precipitacion maxima para el dia 21 de 10 del 2023 ocurrio a las 9 UTC y llovio de 0 mm.\" \n",
            " [35] \"La precipitacion maxima para el dia 21 de 10 del 2023 ocurrio a las 10 UTC y llovio de 0 mm.\"\n",
            " [36] \"La precipitacion maxima para el dia 21 de 10 del 2023 ocurrio a las 11 UTC y llovio de 0 mm.\"\n",
            " [37] \"La precipitacion maxima para el dia 21 de 10 del 2023 ocurrio a las 12 UTC y llovio de 0 mm.\"\n",
            " [38] \"La precipitacion maxima para el dia 21 de 10 del 2023 ocurrio a las 13 UTC y llovio de 0 mm.\"\n",
            " [39] \"La precipitacion maxima para el dia 21 de 10 del 2023 ocurrio a las 14 UTC y llovio de 0 mm.\"\n",
            " [40] \"La precipitacion maxima para el dia 21 de 10 del 2023 ocurrio a las 15 UTC y llovio de 0 mm.\"\n",
            " [41] \"La precipitacion maxima para el dia 21 de 10 del 2023 ocurrio a las 16 UTC y llovio de 0 mm.\"\n",
            " [42] \"La precipitacion maxima para el dia 21 de 10 del 2023 ocurrio a las 17 UTC y llovio de 0 mm.\"\n",
            " [43] \"La precipitacion maxima para el dia 21 de 10 del 2023 ocurrio a las 18 UTC y llovio de 0 mm.\"\n",
            " [44] \"La precipitacion maxima para el dia 21 de 10 del 2023 ocurrio a las 19 UTC y llovio de 0 mm.\"\n",
            " [45] \"La precipitacion maxima para el dia 21 de 10 del 2023 ocurrio a las 20 UTC y llovio de 0 mm.\"\n",
            " [46] \"La precipitacion maxima para el dia 21 de 10 del 2023 ocurrio a las 21 UTC y llovio de 0 mm.\"\n",
            " [47] \"La precipitacion maxima para el dia 21 de 10 del 2023 ocurrio a las 22 UTC y llovio de 0 mm.\"\n",
            " [48] \"La precipitacion maxima para el dia 21 de 10 del 2023 ocurrio a las 23 UTC y llovio de 0 mm.\"\n",
            " [49] \"La precipitacion maxima para el dia 22 de 10 del 2023 ocurrio a las 0 UTC y llovio de 0 mm.\" \n",
            " [50] \"La precipitacion maxima para el dia 22 de 10 del 2023 ocurrio a las 1 UTC y llovio de 0 mm.\" \n",
            " [51] \"La precipitacion maxima para el dia 22 de 10 del 2023 ocurrio a las 2 UTC y llovio de 0 mm.\" \n",
            " [52] \"La precipitacion maxima para el dia 22 de 10 del 2023 ocurrio a las 3 UTC y llovio de 0 mm.\" \n",
            " [53] \"La precipitacion maxima para el dia 22 de 10 del 2023 ocurrio a las 4 UTC y llovio de 0 mm.\" \n",
            " [54] \"La precipitacion maxima para el dia 22 de 10 del 2023 ocurrio a las 5 UTC y llovio de 0 mm.\" \n",
            " [55] \"La precipitacion maxima para el dia 22 de 10 del 2023 ocurrio a las 6 UTC y llovio de 0 mm.\" \n",
            " [56] \"La precipitacion maxima para el dia 22 de 10 del 2023 ocurrio a las 7 UTC y llovio de 0 mm.\" \n",
            " [57] \"La precipitacion maxima para el dia 22 de 10 del 2023 ocurrio a las 8 UTC y llovio de 0 mm.\" \n",
            " [58] \"La precipitacion maxima para el dia 22 de 10 del 2023 ocurrio a las 9 UTC y llovio de 0 mm.\" \n",
            " [59] \"La precipitacion maxima para el dia 22 de 10 del 2023 ocurrio a las 10 UTC y llovio de 0 mm.\"\n",
            " [60] \"La precipitacion maxima para el dia 22 de 10 del 2023 ocurrio a las 11 UTC y llovio de 0 mm.\"\n",
            " [61] \"La precipitacion maxima para el dia 22 de 10 del 2023 ocurrio a las 12 UTC y llovio de 0 mm.\"\n",
            " [62] \"La precipitacion maxima para el dia 22 de 10 del 2023 ocurrio a las 13 UTC y llovio de 0 mm.\"\n",
            " [63] \"La precipitacion maxima para el dia 22 de 10 del 2023 ocurrio a las 14 UTC y llovio de 0 mm.\"\n",
            " [64] \"La precipitacion maxima para el dia 22 de 10 del 2023 ocurrio a las 15 UTC y llovio de 0 mm.\"\n",
            " [65] \"La precipitacion maxima para el dia 22 de 10 del 2023 ocurrio a las 16 UTC y llovio de 0 mm.\"\n",
            " [66] \"La precipitacion maxima para el dia 22 de 10 del 2023 ocurrio a las 17 UTC y llovio de 0 mm.\"\n",
            " [67] \"La precipitacion maxima para el dia 22 de 10 del 2023 ocurrio a las 18 UTC y llovio de 0 mm.\"\n",
            " [68] \"La precipitacion maxima para el dia 22 de 10 del 2023 ocurrio a las 19 UTC y llovio de 0 mm.\"\n",
            " [69] \"La precipitacion maxima para el dia 22 de 10 del 2023 ocurrio a las 20 UTC y llovio de 0 mm.\"\n",
            " [70] \"La precipitacion maxima para el dia 22 de 10 del 2023 ocurrio a las 21 UTC y llovio de 0 mm.\"\n",
            " [71] \"La precipitacion maxima para el dia 22 de 10 del 2023 ocurrio a las 22 UTC y llovio de 0 mm.\"\n",
            " [72] \"La precipitacion maxima para el dia 22 de 10 del 2023 ocurrio a las 23 UTC y llovio de 0 mm.\"\n",
            " [73] \"La precipitacion maxima para el dia 23 de 10 del 2023 ocurrio a las 0 UTC y llovio de 0 mm.\" \n",
            " [74] \"La precipitacion maxima para el dia 23 de 10 del 2023 ocurrio a las 1 UTC y llovio de 0 mm.\" \n",
            " [75] \"La precipitacion maxima para el dia 23 de 10 del 2023 ocurrio a las 2 UTC y llovio de 0 mm.\" \n",
            " [76] \"La precipitacion maxima para el dia 23 de 10 del 2023 ocurrio a las 3 UTC y llovio de 0 mm.\" \n",
            " [77] \"La precipitacion maxima para el dia 23 de 10 del 2023 ocurrio a las 4 UTC y llovio de 0 mm.\" \n",
            " [78] \"La precipitacion maxima para el dia 23 de 10 del 2023 ocurrio a las 5 UTC y llovio de 0 mm.\" \n",
            " [79] \"La precipitacion maxima para el dia 23 de 10 del 2023 ocurrio a las 6 UTC y llovio de 0 mm.\" \n",
            " [80] \"La precipitacion maxima para el dia 23 de 10 del 2023 ocurrio a las 7 UTC y llovio de 0 mm.\" \n",
            " [81] \"La precipitacion maxima para el dia 23 de 10 del 2023 ocurrio a las 8 UTC y llovio de 0 mm.\" \n",
            " [82] \"La precipitacion maxima para el dia 23 de 10 del 2023 ocurrio a las 9 UTC y llovio de 0 mm.\" \n",
            " [83] \"La precipitacion maxima para el dia 23 de 10 del 2023 ocurrio a las 10 UTC y llovio de 0 mm.\"\n",
            " [84] \"La precipitacion maxima para el dia 23 de 10 del 2023 ocurrio a las 11 UTC y llovio de 0 mm.\"\n",
            " [85] \"La precipitacion maxima para el dia 23 de 10 del 2023 ocurrio a las 12 UTC y llovio de 0 mm.\"\n",
            " [86] \"La precipitacion maxima para el dia 23 de 10 del 2023 ocurrio a las 13 UTC y llovio de 0 mm.\"\n",
            " [87] \"La precipitacion maxima para el dia 23 de 10 del 2023 ocurrio a las 14 UTC y llovio de 0 mm.\"\n",
            " [88] \"La precipitacion maxima para el dia 23 de 10 del 2023 ocurrio a las 15 UTC y llovio de 0 mm.\"\n",
            " [89] \"La precipitacion maxima para el dia 23 de 10 del 2023 ocurrio a las 16 UTC y llovio de 0 mm.\"\n",
            " [90] \"La precipitacion maxima para el dia 23 de 10 del 2023 ocurrio a las 17 UTC y llovio de 0 mm.\"\n",
            " [91] \"La precipitacion maxima para el dia 23 de 10 del 2023 ocurrio a las 18 UTC y llovio de 0 mm.\"\n",
            " [92] \"La precipitacion maxima para el dia 23 de 10 del 2023 ocurrio a las 19 UTC y llovio de 0 mm.\"\n",
            " [93] \"La precipitacion maxima para el dia 23 de 10 del 2023 ocurrio a las 20 UTC y llovio de 0 mm.\"\n",
            " [94] \"La precipitacion maxima para el dia 23 de 10 del 2023 ocurrio a las 21 UTC y llovio de 0 mm.\"\n",
            " [95] \"La precipitacion maxima para el dia 23 de 10 del 2023 ocurrio a las 22 UTC y llovio de 0 mm.\"\n",
            " [96] \"La precipitacion maxima para el dia 23 de 10 del 2023 ocurrio a las 23 UTC y llovio de 0 mm.\"\n",
            " [97] \"La precipitacion maxima para el dia 24 de 10 del 2023 ocurrio a las 0 UTC y llovio de 0 mm.\" \n",
            " [98] \"La precipitacion maxima para el dia 24 de 10 del 2023 ocurrio a las 1 UTC y llovio de 0 mm.\" \n",
            " [99] \"La precipitacion maxima para el dia 24 de 10 del 2023 ocurrio a las 2 UTC y llovio de 0 mm.\" \n",
            "[100] \"La precipitacion maxima para el dia 24 de 10 del 2023 ocurrio a las 3 UTC y llovio de 0 mm.\" \n",
            "[101] \"La precipitacion maxima para el dia 24 de 10 del 2023 ocurrio a las 4 UTC y llovio de 0 mm.\" \n",
            "[102] \"La precipitacion maxima para el dia 24 de 10 del 2023 ocurrio a las 5 UTC y llovio de 0 mm.\" \n",
            "[103] \"La precipitacion maxima para el dia 24 de 10 del 2023 ocurrio a las 6 UTC y llovio de 0 mm.\" \n",
            "[104] \"La precipitacion maxima para el dia 24 de 10 del 2023 ocurrio a las 7 UTC y llovio de 0 mm.\" \n",
            "[105] \"La precipitacion maxima para el dia 24 de 10 del 2023 ocurrio a las 8 UTC y llovio de 0 mm.\" \n",
            "[106] \"La precipitacion maxima para el dia 24 de 10 del 2023 ocurrio a las 9 UTC y llovio de 0 mm.\" \n",
            "[107] \"La precipitacion maxima para el dia 24 de 10 del 2023 ocurrio a las 10 UTC y llovio de 0 mm.\"\n",
            "[108] \"La precipitacion maxima para el dia 24 de 10 del 2023 ocurrio a las 11 UTC y llovio de 0 mm.\"\n",
            "[109] \"La precipitacion maxima para el dia 24 de 10 del 2023 ocurrio a las 12 UTC y llovio de 0 mm.\"\n",
            "[110] \"La precipitacion maxima para el dia 24 de 10 del 2023 ocurrio a las 13 UTC y llovio de 0 mm.\"\n",
            "[111] \"La precipitacion maxima para el dia 24 de 10 del 2023 ocurrio a las 14 UTC y llovio de 0 mm.\"\n",
            "[112] \"La precipitacion maxima para el dia 24 de 10 del 2023 ocurrio a las 15 UTC y llovio de 0 mm.\"\n",
            "[113] \"La precipitacion maxima para el dia 24 de 10 del 2023 ocurrio a las 16 UTC y llovio de 0 mm.\"\n",
            "[114] \"La precipitacion maxima para el dia 24 de 10 del 2023 ocurrio a las 17 UTC y llovio de 0 mm.\"\n",
            "[115] \"La precipitacion maxima para el dia 24 de 10 del 2023 ocurrio a las 18 UTC y llovio de 0 mm.\"\n",
            "[116] \"La precipitacion maxima para el dia 24 de 10 del 2023 ocurrio a las 19 UTC y llovio de 0 mm.\"\n",
            "[117] \"La precipitacion maxima para el dia 24 de 10 del 2023 ocurrio a las 20 UTC y llovio de 0 mm.\"\n",
            "[118] \"La precipitacion maxima para el dia 24 de 10 del 2023 ocurrio a las 21 UTC y llovio de 0 mm.\"\n",
            "[119] \"La precipitacion maxima para el dia 24 de 10 del 2023 ocurrio a las 22 UTC y llovio de 0 mm.\"\n",
            "[120] \"La precipitacion maxima para el dia 24 de 10 del 2023 ocurrio a las 23 UTC y llovio de 0 mm.\"\n",
            "[121] \"La precipitacion maxima para el dia 25 de 10 del 2023 ocurrio a las 0 UTC y llovio de 0 mm.\" \n",
            "[122] \"La precipitacion maxima para el dia 25 de 10 del 2023 ocurrio a las 1 UTC y llovio de 0 mm.\" \n",
            "[123] \"La precipitacion maxima para el dia 25 de 10 del 2023 ocurrio a las 2 UTC y llovio de 0 mm.\" \n",
            "[124] \"La precipitacion maxima para el dia 25 de 10 del 2023 ocurrio a las 3 UTC y llovio de 0 mm.\" \n",
            "[125] \"La precipitacion maxima para el dia 25 de 10 del 2023 ocurrio a las 4 UTC y llovio de 0 mm.\" \n",
            "[126] \"La precipitacion maxima para el dia 25 de 10 del 2023 ocurrio a las 5 UTC y llovio de 0 mm.\" \n",
            "[127] \"La precipitacion maxima para el dia 25 de 10 del 2023 ocurrio a las 6 UTC y llovio de 0 mm.\" \n",
            "[128] \"La precipitacion maxima para el dia 25 de 10 del 2023 ocurrio a las 7 UTC y llovio de 0 mm.\" \n",
            "[129] \"La precipitacion maxima para el dia 25 de 10 del 2023 ocurrio a las 8 UTC y llovio de 0 mm.\" \n",
            "[130] \"La precipitacion maxima para el dia 25 de 10 del 2023 ocurrio a las 9 UTC y llovio de 0 mm.\" \n",
            "[131] \"La precipitacion maxima para el dia 25 de 10 del 2023 ocurrio a las 10 UTC y llovio de 0 mm.\"\n",
            "[132] \"La precipitacion maxima para el dia 25 de 10 del 2023 ocurrio a las 11 UTC y llovio de 0 mm.\"\n",
            "[133] \"La precipitacion maxima para el dia 25 de 10 del 2023 ocurrio a las 12 UTC y llovio de 0 mm.\"\n",
            "[134] \"La precipitacion maxima para el dia 25 de 10 del 2023 ocurrio a las 13 UTC y llovio de 0 mm.\"\n",
            "[135] \"La precipitacion maxima para el dia 25 de 10 del 2023 ocurrio a las 14 UTC y llovio de 0 mm.\"\n",
            "[136] \"La precipitacion maxima para el dia 25 de 10 del 2023 ocurrio a las 15 UTC y llovio de 0 mm.\"\n",
            "[137] \"La precipitacion maxima para el dia 25 de 10 del 2023 ocurrio a las 16 UTC y llovio de 0 mm.\"\n",
            "[138] \"La precipitacion maxima para el dia 25 de 10 del 2023 ocurrio a las 17 UTC y llovio de 0 mm.\"\n",
            "[139] \"La precipitacion maxima para el dia 25 de 10 del 2023 ocurrio a las 18 UTC y llovio de 0 mm.\"\n",
            "[140] \"La precipitacion maxima para el dia 25 de 10 del 2023 ocurrio a las 19 UTC y llovio de 0 mm.\"\n",
            "[141] \"La precipitacion maxima para el dia 25 de 10 del 2023 ocurrio a las 20 UTC y llovio de 0 mm.\"\n",
            "[142] \"La precipitacion maxima para el dia 25 de 10 del 2023 ocurrio a las 21 UTC y llovio de 0 mm.\"\n",
            "[143] \"La precipitacion maxima para el dia 25 de 10 del 2023 ocurrio a las 22 UTC y llovio de 0 mm.\"\n",
            "[144] \"La precipitacion maxima para el dia 25 de 10 del 2023 ocurrio a las 23 UTC y llovio de 0 mm.\"\n",
            "  [1] \"La precipitacion maxima para el dia 20 de 10 del 2023 ocurrio a las 0 UTC y llovio de 0 mm.\" \n",
            "  [2] \"La precipitacion maxima para el dia 20 de 10 del 2023 ocurrio a las 1 UTC y llovio de 0 mm.\" \n",
            "  [3] \"La precipitacion maxima para el dia 20 de 10 del 2023 ocurrio a las 2 UTC y llovio de 0 mm.\" \n",
            "  [4] \"La precipitacion maxima para el dia 20 de 10 del 2023 ocurrio a las 3 UTC y llovio de 0 mm.\" \n",
            "  [5] \"La precipitacion maxima para el dia 20 de 10 del 2023 ocurrio a las 4 UTC y llovio de 0 mm.\" \n",
            "  [6] \"La precipitacion maxima para el dia 20 de 10 del 2023 ocurrio a las 5 UTC y llovio de 0 mm.\" \n",
            "  [7] \"La precipitacion maxima para el dia 20 de 10 del 2023 ocurrio a las 6 UTC y llovio de 0 mm.\" \n",
            "  [8] \"La precipitacion maxima para el dia 20 de 10 del 2023 ocurrio a las 7 UTC y llovio de 0 mm.\" \n",
            "  [9] \"La precipitacion maxima para el dia 20 de 10 del 2023 ocurrio a las 8 UTC y llovio de 0 mm.\" \n",
            " [10] \"La precipitacion maxima para el dia 20 de 10 del 2023 ocurrio a las 9 UTC y llovio de 0 mm.\" \n",
            " [11] \"La precipitacion maxima para el dia 20 de 10 del 2023 ocurrio a las 10 UTC y llovio de 0 mm.\"\n",
            " [12] \"La precipitacion maxima para el dia 20 de 10 del 2023 ocurrio a las 11 UTC y llovio de 0 mm.\"\n",
            " [13] \"La precipitacion maxima para el dia 20 de 10 del 2023 ocurrio a las 12 UTC y llovio de 0 mm.\"\n",
            " [14] \"La precipitacion maxima para el dia 20 de 10 del 2023 ocurrio a las 13 UTC y llovio de 0 mm.\"\n",
            " [15] \"La precipitacion maxima para el dia 20 de 10 del 2023 ocurrio a las 14 UTC y llovio de 0 mm.\"\n",
            " [16] \"La precipitacion maxima para el dia 20 de 10 del 2023 ocurrio a las 15 UTC y llovio de 0 mm.\"\n",
            " [17] \"La precipitacion maxima para el dia 20 de 10 del 2023 ocurrio a las 16 UTC y llovio de 0 mm.\"\n",
            " [18] \"La precipitacion maxima para el dia 20 de 10 del 2023 ocurrio a las 17 UTC y llovio de 0 mm.\"\n",
            " [19] \"La precipitacion maxima para el dia 20 de 10 del 2023 ocurrio a las 18 UTC y llovio de 0 mm.\"\n",
            " [20] \"La precipitacion maxima para el dia 20 de 10 del 2023 ocurrio a las 19 UTC y llovio de 0 mm.\"\n",
            " [21] \"La precipitacion maxima para el dia 20 de 10 del 2023 ocurrio a las 20 UTC y llovio de 0 mm.\"\n",
            " [22] \"La precipitacion maxima para el dia 20 de 10 del 2023 ocurrio a las 21 UTC y llovio de 0 mm.\"\n",
            " [23] \"La precipitacion maxima para el dia 20 de 10 del 2023 ocurrio a las 22 UTC y llovio de 0 mm.\"\n",
            " [24] \"La precipitacion maxima para el dia 20 de 10 del 2023 ocurrio a las 23 UTC y llovio de 0 mm.\"\n",
            " [25] \"La precipitacion maxima para el dia 21 de 10 del 2023 ocurrio a las 0 UTC y llovio de 0 mm.\" \n",
            " [26] \"La precipitacion maxima para el dia 21 de 10 del 2023 ocurrio a las 1 UTC y llovio de 0 mm.\" \n",
            " [27] \"La precipitacion maxima para el dia 21 de 10 del 2023 ocurrio a las 2 UTC y llovio de 0 mm.\" \n",
            " [28] \"La precipitacion maxima para el dia 21 de 10 del 2023 ocurrio a las 3 UTC y llovio de 0 mm.\" \n",
            " [29] \"La precipitacion maxima para el dia 21 de 10 del 2023 ocurrio a las 4 UTC y llovio de 0 mm.\" \n",
            " [30] \"La precipitacion maxima para el dia 21 de 10 del 2023 ocurrio a las 5 UTC y llovio de 0 mm.\" \n",
            " [31] \"La precipitacion maxima para el dia 21 de 10 del 2023 ocurrio a las 6 UTC y llovio de 0 mm.\" \n",
            " [32] \"La precipitacion maxima para el dia 21 de 10 del 2023 ocurrio a las 7 UTC y llovio de 0 mm.\" \n",
            " [33] \"La precipitacion maxima para el dia 21 de 10 del 2023 ocurrio a las 8 UTC y llovio de 0 mm.\" \n",
            " [34] \"La precipitacion maxima para el dia 21 de 10 del 2023 ocurrio a las 9 UTC y llovio de 0 mm.\" \n",
            " [35] \"La precipitacion maxima para el dia 21 de 10 del 2023 ocurrio a las 10 UTC y llovio de 0 mm.\"\n",
            " [36] \"La precipitacion maxima para el dia 21 de 10 del 2023 ocurrio a las 11 UTC y llovio de 0 mm.\"\n",
            " [37] \"La precipitacion maxima para el dia 21 de 10 del 2023 ocurrio a las 12 UTC y llovio de 0 mm.\"\n",
            " [38] \"La precipitacion maxima para el dia 21 de 10 del 2023 ocurrio a las 13 UTC y llovio de 0 mm.\"\n",
            " [39] \"La precipitacion maxima para el dia 21 de 10 del 2023 ocurrio a las 14 UTC y llovio de 0 mm.\"\n",
            " [40] \"La precipitacion maxima para el dia 21 de 10 del 2023 ocurrio a las 15 UTC y llovio de 0 mm.\"\n",
            " [41] \"La precipitacion maxima para el dia 21 de 10 del 2023 ocurrio a las 16 UTC y llovio de 0 mm.\"\n",
            " [42] \"La precipitacion maxima para el dia 21 de 10 del 2023 ocurrio a las 17 UTC y llovio de 0 mm.\"\n",
            " [43] \"La precipitacion maxima para el dia 21 de 10 del 2023 ocurrio a las 18 UTC y llovio de 0 mm.\"\n",
            " [44] \"La precipitacion maxima para el dia 21 de 10 del 2023 ocurrio a las 19 UTC y llovio de 0 mm.\"\n",
            " [45] \"La precipitacion maxima para el dia 21 de 10 del 2023 ocurrio a las 20 UTC y llovio de 0 mm.\"\n",
            " [46] \"La precipitacion maxima para el dia 21 de 10 del 2023 ocurrio a las 21 UTC y llovio de 0 mm.\"\n",
            " [47] \"La precipitacion maxima para el dia 21 de 10 del 2023 ocurrio a las 22 UTC y llovio de 0 mm.\"\n",
            " [48] \"La precipitacion maxima para el dia 21 de 10 del 2023 ocurrio a las 23 UTC y llovio de 0 mm.\"\n",
            " [49] \"La precipitacion maxima para el dia 22 de 10 del 2023 ocurrio a las 0 UTC y llovio de 0 mm.\" \n",
            " [50] \"La precipitacion maxima para el dia 22 de 10 del 2023 ocurrio a las 1 UTC y llovio de 0 mm.\" \n",
            " [51] \"La precipitacion maxima para el dia 22 de 10 del 2023 ocurrio a las 2 UTC y llovio de 0 mm.\" \n",
            " [52] \"La precipitacion maxima para el dia 22 de 10 del 2023 ocurrio a las 3 UTC y llovio de 0 mm.\" \n",
            " [53] \"La precipitacion maxima para el dia 22 de 10 del 2023 ocurrio a las 4 UTC y llovio de 0 mm.\" \n",
            " [54] \"La precipitacion maxima para el dia 22 de 10 del 2023 ocurrio a las 5 UTC y llovio de 0 mm.\" \n",
            " [55] \"La precipitacion maxima para el dia 22 de 10 del 2023 ocurrio a las 6 UTC y llovio de 0 mm.\" \n",
            " [56] \"La precipitacion maxima para el dia 22 de 10 del 2023 ocurrio a las 7 UTC y llovio de 0 mm.\" \n",
            " [57] \"La precipitacion maxima para el dia 22 de 10 del 2023 ocurrio a las 8 UTC y llovio de 0 mm.\" \n",
            " [58] \"La precipitacion maxima para el dia 22 de 10 del 2023 ocurrio a las 9 UTC y llovio de 0 mm.\" \n",
            " [59] \"La precipitacion maxima para el dia 22 de 10 del 2023 ocurrio a las 10 UTC y llovio de 0 mm.\"\n",
            " [60] \"La precipitacion maxima para el dia 22 de 10 del 2023 ocurrio a las 11 UTC y llovio de 0 mm.\"\n",
            " [61] \"La precipitacion maxima para el dia 22 de 10 del 2023 ocurrio a las 12 UTC y llovio de 0 mm.\"\n",
            " [62] \"La precipitacion maxima para el dia 22 de 10 del 2023 ocurrio a las 13 UTC y llovio de 0 mm.\"\n",
            " [63] \"La precipitacion maxima para el dia 22 de 10 del 2023 ocurrio a las 14 UTC y llovio de 0 mm.\"\n",
            " [64] \"La precipitacion maxima para el dia 22 de 10 del 2023 ocurrio a las 15 UTC y llovio de 0 mm.\"\n",
            " [65] \"La precipitacion maxima para el dia 22 de 10 del 2023 ocurrio a las 16 UTC y llovio de 0 mm.\"\n",
            " [66] \"La precipitacion maxima para el dia 22 de 10 del 2023 ocurrio a las 17 UTC y llovio de 0 mm.\"\n",
            " [67] \"La precipitacion maxima para el dia 22 de 10 del 2023 ocurrio a las 18 UTC y llovio de 0 mm.\"\n",
            " [68] \"La precipitacion maxima para el dia 22 de 10 del 2023 ocurrio a las 19 UTC y llovio de 0 mm.\"\n",
            " [69] \"La precipitacion maxima para el dia 22 de 10 del 2023 ocurrio a las 20 UTC y llovio de 0 mm.\"\n",
            " [70] \"La precipitacion maxima para el dia 22 de 10 del 2023 ocurrio a las 21 UTC y llovio de 0 mm.\"\n",
            " [71] \"La precipitacion maxima para el dia 22 de 10 del 2023 ocurrio a las 22 UTC y llovio de 0 mm.\"\n",
            " [72] \"La precipitacion maxima para el dia 22 de 10 del 2023 ocurrio a las 23 UTC y llovio de 0 mm.\"\n",
            " [73] \"La precipitacion maxima para el dia 23 de 10 del 2023 ocurrio a las 0 UTC y llovio de 0 mm.\" \n",
            " [74] \"La precipitacion maxima para el dia 23 de 10 del 2023 ocurrio a las 1 UTC y llovio de 0 mm.\" \n",
            " [75] \"La precipitacion maxima para el dia 23 de 10 del 2023 ocurrio a las 2 UTC y llovio de 0 mm.\" \n",
            " [76] \"La precipitacion maxima para el dia 23 de 10 del 2023 ocurrio a las 3 UTC y llovio de 0 mm.\" \n",
            " [77] \"La precipitacion maxima para el dia 23 de 10 del 2023 ocurrio a las 4 UTC y llovio de 0 mm.\" \n",
            " [78] \"La precipitacion maxima para el dia 23 de 10 del 2023 ocurrio a las 5 UTC y llovio de 0 mm.\" \n",
            " [79] \"La precipitacion maxima para el dia 23 de 10 del 2023 ocurrio a las 6 UTC y llovio de 0 mm.\" \n",
            " [80] \"La precipitacion maxima para el dia 23 de 10 del 2023 ocurrio a las 7 UTC y llovio de 0 mm.\" \n",
            " [81] \"La precipitacion maxima para el dia 23 de 10 del 2023 ocurrio a las 8 UTC y llovio de 0 mm.\" \n",
            " [82] \"La precipitacion maxima para el dia 23 de 10 del 2023 ocurrio a las 9 UTC y llovio de 0 mm.\" \n",
            " [83] \"La precipitacion maxima para el dia 23 de 10 del 2023 ocurrio a las 10 UTC y llovio de 0 mm.\"\n",
            " [84] \"La precipitacion maxima para el dia 23 de 10 del 2023 ocurrio a las 11 UTC y llovio de 0 mm.\"\n",
            " [85] \"La precipitacion maxima para el dia 23 de 10 del 2023 ocurrio a las 12 UTC y llovio de 0 mm.\"\n",
            " [86] \"La precipitacion maxima para el dia 23 de 10 del 2023 ocurrio a las 13 UTC y llovio de 0 mm.\"\n",
            " [87] \"La precipitacion maxima para el dia 23 de 10 del 2023 ocurrio a las 14 UTC y llovio de 0 mm.\"\n",
            " [88] \"La precipitacion maxima para el dia 23 de 10 del 2023 ocurrio a las 15 UTC y llovio de 0 mm.\"\n",
            " [89] \"La precipitacion maxima para el dia 23 de 10 del 2023 ocurrio a las 16 UTC y llovio de 0 mm.\"\n",
            " [90] \"La precipitacion maxima para el dia 23 de 10 del 2023 ocurrio a las 17 UTC y llovio de 0 mm.\"\n",
            " [91] \"La precipitacion maxima para el dia 23 de 10 del 2023 ocurrio a las 18 UTC y llovio de 0 mm.\"\n",
            " [92] \"La precipitacion maxima para el dia 23 de 10 del 2023 ocurrio a las 19 UTC y llovio de 0 mm.\"\n",
            " [93] \"La precipitacion maxima para el dia 23 de 10 del 2023 ocurrio a las 20 UTC y llovio de 0 mm.\"\n",
            " [94] \"La precipitacion maxima para el dia 23 de 10 del 2023 ocurrio a las 21 UTC y llovio de 0 mm.\"\n",
            " [95] \"La precipitacion maxima para el dia 23 de 10 del 2023 ocurrio a las 22 UTC y llovio de 0 mm.\"\n",
            " [96] \"La precipitacion maxima para el dia 23 de 10 del 2023 ocurrio a las 23 UTC y llovio de 0 mm.\"\n",
            " [97] \"La precipitacion maxima para el dia 24 de 10 del 2023 ocurrio a las 0 UTC y llovio de 0 mm.\" \n",
            " [98] \"La precipitacion maxima para el dia 24 de 10 del 2023 ocurrio a las 1 UTC y llovio de 0 mm.\" \n",
            " [99] \"La precipitacion maxima para el dia 24 de 10 del 2023 ocurrio a las 2 UTC y llovio de 0 mm.\" \n",
            "[100] \"La precipitacion maxima para el dia 24 de 10 del 2023 ocurrio a las 3 UTC y llovio de 0 mm.\" \n",
            "[101] \"La precipitacion maxima para el dia 24 de 10 del 2023 ocurrio a las 4 UTC y llovio de 0 mm.\" \n",
            "[102] \"La precipitacion maxima para el dia 24 de 10 del 2023 ocurrio a las 5 UTC y llovio de 0 mm.\" \n",
            "[103] \"La precipitacion maxima para el dia 24 de 10 del 2023 ocurrio a las 6 UTC y llovio de 0 mm.\" \n",
            "[104] \"La precipitacion maxima para el dia 24 de 10 del 2023 ocurrio a las 7 UTC y llovio de 0 mm.\" \n",
            "[105] \"La precipitacion maxima para el dia 24 de 10 del 2023 ocurrio a las 8 UTC y llovio de 0 mm.\" \n",
            "[106] \"La precipitacion maxima para el dia 24 de 10 del 2023 ocurrio a las 9 UTC y llovio de 0 mm.\" \n",
            "[107] \"La precipitacion maxima para el dia 24 de 10 del 2023 ocurrio a las 10 UTC y llovio de 0 mm.\"\n",
            "[108] \"La precipitacion maxima para el dia 24 de 10 del 2023 ocurrio a las 11 UTC y llovio de 0 mm.\"\n",
            "[109] \"La precipitacion maxima para el dia 24 de 10 del 2023 ocurrio a las 12 UTC y llovio de 0 mm.\"\n",
            "[110] \"La precipitacion maxima para el dia 24 de 10 del 2023 ocurrio a las 13 UTC y llovio de 0 mm.\"\n",
            "[111] \"La precipitacion maxima para el dia 24 de 10 del 2023 ocurrio a las 14 UTC y llovio de 0 mm.\"\n",
            "[112] \"La precipitacion maxima para el dia 24 de 10 del 2023 ocurrio a las 15 UTC y llovio de 0 mm.\"\n",
            "[113] \"La precipitacion maxima para el dia 24 de 10 del 2023 ocurrio a las 16 UTC y llovio de 0 mm.\"\n",
            "[114] \"La precipitacion maxima para el dia 24 de 10 del 2023 ocurrio a las 17 UTC y llovio de 0 mm.\"\n",
            "[115] \"La precipitacion maxima para el dia 24 de 10 del 2023 ocurrio a las 18 UTC y llovio de 0 mm.\"\n",
            "[116] \"La precipitacion maxima para el dia 24 de 10 del 2023 ocurrio a las 19 UTC y llovio de 0 mm.\"\n",
            "[117] \"La precipitacion maxima para el dia 24 de 10 del 2023 ocurrio a las 20 UTC y llovio de 0 mm.\"\n",
            "[118] \"La precipitacion maxima para el dia 24 de 10 del 2023 ocurrio a las 21 UTC y llovio de 0 mm.\"\n",
            "[119] \"La precipitacion maxima para el dia 24 de 10 del 2023 ocurrio a las 22 UTC y llovio de 0 mm.\"\n",
            "[120] \"La precipitacion maxima para el dia 24 de 10 del 2023 ocurrio a las 23 UTC y llovio de 0 mm.\"\n",
            "[121] \"La precipitacion maxima para el dia 25 de 10 del 2023 ocurrio a las 0 UTC y llovio de 0 mm.\" \n",
            "[122] \"La precipitacion maxima para el dia 25 de 10 del 2023 ocurrio a las 1 UTC y llovio de 0 mm.\" \n",
            "[123] \"La precipitacion maxima para el dia 25 de 10 del 2023 ocurrio a las 2 UTC y llovio de 0 mm.\" \n",
            "[124] \"La precipitacion maxima para el dia 25 de 10 del 2023 ocurrio a las 3 UTC y llovio de 0 mm.\" \n",
            "[125] \"La precipitacion maxima para el dia 25 de 10 del 2023 ocurrio a las 4 UTC y llovio de 0 mm.\" \n",
            "[126] \"La precipitacion maxima para el dia 25 de 10 del 2023 ocurrio a las 5 UTC y llovio de 0 mm.\" \n",
            "[127] \"La precipitacion maxima para el dia 25 de 10 del 2023 ocurrio a las 6 UTC y llovio de 0 mm.\" \n",
            "[128] \"La precipitacion maxima para el dia 25 de 10 del 2023 ocurrio a las 7 UTC y llovio de 0 mm.\" \n",
            "[129] \"La precipitacion maxima para el dia 25 de 10 del 2023 ocurrio a las 8 UTC y llovio de 0 mm.\" \n",
            "[130] \"La precipitacion maxima para el dia 25 de 10 del 2023 ocurrio a las 9 UTC y llovio de 0 mm.\" \n",
            "[131] \"La precipitacion maxima para el dia 25 de 10 del 2023 ocurrio a las 10 UTC y llovio de 0 mm.\"\n",
            "[132] \"La precipitacion maxima para el dia 25 de 10 del 2023 ocurrio a las 11 UTC y llovio de 0 mm.\"\n",
            "[133] \"La precipitacion maxima para el dia 25 de 10 del 2023 ocurrio a las 12 UTC y llovio de 0 mm.\"\n",
            "[134] \"La precipitacion maxima para el dia 25 de 10 del 2023 ocurrio a las 13 UTC y llovio de 0 mm.\"\n",
            "[135] \"La precipitacion maxima para el dia 25 de 10 del 2023 ocurrio a las 14 UTC y llovio de 0 mm.\"\n",
            "[136] \"La precipitacion maxima para el dia 25 de 10 del 2023 ocurrio a las 15 UTC y llovio de 0 mm.\"\n",
            "[137] \"La precipitacion maxima para el dia 25 de 10 del 2023 ocurrio a las 16 UTC y llovio de 0 mm.\"\n",
            "[138] \"La precipitacion maxima para el dia 25 de 10 del 2023 ocurrio a las 17 UTC y llovio de 0 mm.\"\n",
            "[139] \"La precipitacion maxima para el dia 25 de 10 del 2023 ocurrio a las 18 UTC y llovio de 0 mm.\"\n",
            "[140] \"La precipitacion maxima para el dia 25 de 10 del 2023 ocurrio a las 19 UTC y llovio de 0 mm.\"\n",
            "[141] \"La precipitacion maxima para el dia 25 de 10 del 2023 ocurrio a las 20 UTC y llovio de 0 mm.\"\n",
            "[142] \"La precipitacion maxima para el dia 25 de 10 del 2023 ocurrio a las 21 UTC y llovio de 0 mm.\"\n",
            "[143] \"La precipitacion maxima para el dia 25 de 10 del 2023 ocurrio a las 22 UTC y llovio de 0 mm.\"\n",
            "[144] \"La precipitacion maxima para el dia 25 de 10 del 2023 ocurrio a las 23 UTC y llovio de 0 mm.\"\n",
            "  [1] \"La precipitacion maxima para el dia 20 de 10 del 2023 ocurrio a las 0 UTC y llovio de 0 mm.\" \n",
            "  [2] \"La precipitacion maxima para el dia 20 de 10 del 2023 ocurrio a las 1 UTC y llovio de 0 mm.\" \n",
            "  [3] \"La precipitacion maxima para el dia 20 de 10 del 2023 ocurrio a las 2 UTC y llovio de 0 mm.\" \n",
            "  [4] \"La precipitacion maxima para el dia 20 de 10 del 2023 ocurrio a las 3 UTC y llovio de 0 mm.\" \n",
            "  [5] \"La precipitacion maxima para el dia 20 de 10 del 2023 ocurrio a las 4 UTC y llovio de 0 mm.\" \n",
            "  [6] \"La precipitacion maxima para el dia 20 de 10 del 2023 ocurrio a las 5 UTC y llovio de 0 mm.\" \n",
            "  [7] \"La precipitacion maxima para el dia 20 de 10 del 2023 ocurrio a las 6 UTC y llovio de 0 mm.\" \n",
            "  [8] \"La precipitacion maxima para el dia 20 de 10 del 2023 ocurrio a las 7 UTC y llovio de 0 mm.\" \n",
            "  [9] \"La precipitacion maxima para el dia 20 de 10 del 2023 ocurrio a las 8 UTC y llovio de 0 mm.\" \n",
            " [10] \"La precipitacion maxima para el dia 20 de 10 del 2023 ocurrio a las 9 UTC y llovio de 0 mm.\" \n",
            " [11] \"La precipitacion maxima para el dia 20 de 10 del 2023 ocurrio a las 10 UTC y llovio de 0 mm.\"\n",
            " [12] \"La precipitacion maxima para el dia 20 de 10 del 2023 ocurrio a las 11 UTC y llovio de 0 mm.\"\n",
            " [13] \"La precipitacion maxima para el dia 20 de 10 del 2023 ocurrio a las 12 UTC y llovio de 0 mm.\"\n",
            " [14] \"La precipitacion maxima para el dia 20 de 10 del 2023 ocurrio a las 13 UTC y llovio de 0 mm.\"\n",
            " [15] \"La precipitacion maxima para el dia 20 de 10 del 2023 ocurrio a las 14 UTC y llovio de 0 mm.\"\n",
            " [16] \"La precipitacion maxima para el dia 20 de 10 del 2023 ocurrio a las 15 UTC y llovio de 0 mm.\"\n",
            " [17] \"La precipitacion maxima para el dia 20 de 10 del 2023 ocurrio a las 16 UTC y llovio de 0 mm.\"\n",
            " [18] \"La precipitacion maxima para el dia 20 de 10 del 2023 ocurrio a las 17 UTC y llovio de 0 mm.\"\n",
            " [19] \"La precipitacion maxima para el dia 20 de 10 del 2023 ocurrio a las 18 UTC y llovio de 0 mm.\"\n",
            " [20] \"La precipitacion maxima para el dia 20 de 10 del 2023 ocurrio a las 19 UTC y llovio de 0 mm.\"\n",
            " [21] \"La precipitacion maxima para el dia 20 de 10 del 2023 ocurrio a las 20 UTC y llovio de 0 mm.\"\n",
            " [22] \"La precipitacion maxima para el dia 20 de 10 del 2023 ocurrio a las 21 UTC y llovio de 0 mm.\"\n",
            " [23] \"La precipitacion maxima para el dia 20 de 10 del 2023 ocurrio a las 22 UTC y llovio de 0 mm.\"\n",
            " [24] \"La precipitacion maxima para el dia 20 de 10 del 2023 ocurrio a las 23 UTC y llovio de 0 mm.\"\n",
            " [25] \"La precipitacion maxima para el dia 21 de 10 del 2023 ocurrio a las 0 UTC y llovio de 0 mm.\" \n",
            " [26] \"La precipitacion maxima para el dia 21 de 10 del 2023 ocurrio a las 1 UTC y llovio de 0 mm.\" \n",
            " [27] \"La precipitacion maxima para el dia 21 de 10 del 2023 ocurrio a las 2 UTC y llovio de 0 mm.\" \n",
            " [28] \"La precipitacion maxima para el dia 21 de 10 del 2023 ocurrio a las 3 UTC y llovio de 0 mm.\" \n",
            " [29] \"La precipitacion maxima para el dia 21 de 10 del 2023 ocurrio a las 4 UTC y llovio de 0 mm.\" \n",
            " [30] \"La precipitacion maxima para el dia 21 de 10 del 2023 ocurrio a las 5 UTC y llovio de 0 mm.\" \n",
            " [31] \"La precipitacion maxima para el dia 21 de 10 del 2023 ocurrio a las 6 UTC y llovio de 0 mm.\" \n",
            " [32] \"La precipitacion maxima para el dia 21 de 10 del 2023 ocurrio a las 7 UTC y llovio de 0 mm.\" \n",
            " [33] \"La precipitacion maxima para el dia 21 de 10 del 2023 ocurrio a las 8 UTC y llovio de 0 mm.\" \n",
            " [34] \"La precipitacion maxima para el dia 21 de 10 del 2023 ocurrio a las 9 UTC y llovio de 0 mm.\" \n",
            " [35] \"La precipitacion maxima para el dia 21 de 10 del 2023 ocurrio a las 10 UTC y llovio de 0 mm.\"\n",
            " [36] \"La precipitacion maxima para el dia 21 de 10 del 2023 ocurrio a las 11 UTC y llovio de 0 mm.\"\n",
            " [37] \"La precipitacion maxima para el dia 21 de 10 del 2023 ocurrio a las 12 UTC y llovio de 0 mm.\"\n",
            " [38] \"La precipitacion maxima para el dia 21 de 10 del 2023 ocurrio a las 13 UTC y llovio de 0 mm.\"\n",
            " [39] \"La precipitacion maxima para el dia 21 de 10 del 2023 ocurrio a las 14 UTC y llovio de 0 mm.\"\n",
            " [40] \"La precipitacion maxima para el dia 21 de 10 del 2023 ocurrio a las 15 UTC y llovio de 0 mm.\"\n",
            " [41] \"La precipitacion maxima para el dia 21 de 10 del 2023 ocurrio a las 16 UTC y llovio de 0 mm.\"\n",
            " [42] \"La precipitacion maxima para el dia 21 de 10 del 2023 ocurrio a las 17 UTC y llovio de 0 mm.\"\n",
            " [43] \"La precipitacion maxima para el dia 21 de 10 del 2023 ocurrio a las 18 UTC y llovio de 0 mm.\"\n",
            " [44] \"La precipitacion maxima para el dia 21 de 10 del 2023 ocurrio a las 19 UTC y llovio de 0 mm.\"\n",
            " [45] \"La precipitacion maxima para el dia 21 de 10 del 2023 ocurrio a las 20 UTC y llovio de 0 mm.\"\n",
            " [46] \"La precipitacion maxima para el dia 21 de 10 del 2023 ocurrio a las 21 UTC y llovio de 0 mm.\"\n",
            " [47] \"La precipitacion maxima para el dia 21 de 10 del 2023 ocurrio a las 22 UTC y llovio de 0 mm.\"\n",
            " [48] \"La precipitacion maxima para el dia 21 de 10 del 2023 ocurrio a las 23 UTC y llovio de 0 mm.\"\n",
            " [49] \"La precipitacion maxima para el dia 22 de 10 del 2023 ocurrio a las 0 UTC y llovio de 0 mm.\" \n",
            " [50] \"La precipitacion maxima para el dia 22 de 10 del 2023 ocurrio a las 1 UTC y llovio de 0 mm.\" \n",
            " [51] \"La precipitacion maxima para el dia 22 de 10 del 2023 ocurrio a las 2 UTC y llovio de 0 mm.\" \n",
            " [52] \"La precipitacion maxima para el dia 22 de 10 del 2023 ocurrio a las 3 UTC y llovio de 0 mm.\" \n",
            " [53] \"La precipitacion maxima para el dia 22 de 10 del 2023 ocurrio a las 4 UTC y llovio de 0 mm.\" \n",
            " [54] \"La precipitacion maxima para el dia 22 de 10 del 2023 ocurrio a las 5 UTC y llovio de 0 mm.\" \n",
            " [55] \"La precipitacion maxima para el dia 22 de 10 del 2023 ocurrio a las 6 UTC y llovio de 0 mm.\" \n",
            " [56] \"La precipitacion maxima para el dia 22 de 10 del 2023 ocurrio a las 7 UTC y llovio de 0 mm.\" \n",
            " [57] \"La precipitacion maxima para el dia 22 de 10 del 2023 ocurrio a las 8 UTC y llovio de 0 mm.\" \n",
            " [58] \"La precipitacion maxima para el dia 22 de 10 del 2023 ocurrio a las 9 UTC y llovio de 0 mm.\" \n",
            " [59] \"La precipitacion maxima para el dia 22 de 10 del 2023 ocurrio a las 10 UTC y llovio de 0 mm.\"\n",
            " [60] \"La precipitacion maxima para el dia 22 de 10 del 2023 ocurrio a las 11 UTC y llovio de 0 mm.\"\n",
            " [61] \"La precipitacion maxima para el dia 22 de 10 del 2023 ocurrio a las 12 UTC y llovio de 0 mm.\"\n",
            " [62] \"La precipitacion maxima para el dia 22 de 10 del 2023 ocurrio a las 13 UTC y llovio de 0 mm.\"\n",
            " [63] \"La precipitacion maxima para el dia 22 de 10 del 2023 ocurrio a las 14 UTC y llovio de 0 mm.\"\n",
            " [64] \"La precipitacion maxima para el dia 22 de 10 del 2023 ocurrio a las 15 UTC y llovio de 0 mm.\"\n",
            " [65] \"La precipitacion maxima para el dia 22 de 10 del 2023 ocurrio a las 16 UTC y llovio de 0 mm.\"\n",
            " [66] \"La precipitacion maxima para el dia 22 de 10 del 2023 ocurrio a las 17 UTC y llovio de 0 mm.\"\n",
            " [67] \"La precipitacion maxima para el dia 22 de 10 del 2023 ocurrio a las 18 UTC y llovio de 0 mm.\"\n",
            " [68] \"La precipitacion maxima para el dia 22 de 10 del 2023 ocurrio a las 19 UTC y llovio de 0 mm.\"\n",
            " [69] \"La precipitacion maxima para el dia 22 de 10 del 2023 ocurrio a las 20 UTC y llovio de 0 mm.\"\n",
            " [70] \"La precipitacion maxima para el dia 22 de 10 del 2023 ocurrio a las 21 UTC y llovio de 0 mm.\"\n",
            " [71] \"La precipitacion maxima para el dia 22 de 10 del 2023 ocurrio a las 22 UTC y llovio de 0 mm.\"\n",
            " [72] \"La precipitacion maxima para el dia 22 de 10 del 2023 ocurrio a las 23 UTC y llovio de 0 mm.\"\n",
            " [73] \"La precipitacion maxima para el dia 23 de 10 del 2023 ocurrio a las 0 UTC y llovio de 0 mm.\" \n",
            " [74] \"La precipitacion maxima para el dia 23 de 10 del 2023 ocurrio a las 1 UTC y llovio de 0 mm.\" \n",
            " [75] \"La precipitacion maxima para el dia 23 de 10 del 2023 ocurrio a las 2 UTC y llovio de 0 mm.\" \n",
            " [76] \"La precipitacion maxima para el dia 23 de 10 del 2023 ocurrio a las 3 UTC y llovio de 0 mm.\" \n",
            " [77] \"La precipitacion maxima para el dia 23 de 10 del 2023 ocurrio a las 4 UTC y llovio de 0 mm.\" \n",
            " [78] \"La precipitacion maxima para el dia 23 de 10 del 2023 ocurrio a las 5 UTC y llovio de 0 mm.\" \n",
            " [79] \"La precipitacion maxima para el dia 23 de 10 del 2023 ocurrio a las 6 UTC y llovio de 0 mm.\" \n",
            " [80] \"La precipitacion maxima para el dia 23 de 10 del 2023 ocurrio a las 7 UTC y llovio de 0 mm.\" \n",
            " [81] \"La precipitacion maxima para el dia 23 de 10 del 2023 ocurrio a las 8 UTC y llovio de 0 mm.\" \n",
            " [82] \"La precipitacion maxima para el dia 23 de 10 del 2023 ocurrio a las 9 UTC y llovio de 0 mm.\" \n",
            " [83] \"La precipitacion maxima para el dia 23 de 10 del 2023 ocurrio a las 10 UTC y llovio de 0 mm.\"\n",
            " [84] \"La precipitacion maxima para el dia 23 de 10 del 2023 ocurrio a las 11 UTC y llovio de 0 mm.\"\n",
            " [85] \"La precipitacion maxima para el dia 23 de 10 del 2023 ocurrio a las 12 UTC y llovio de 0 mm.\"\n",
            " [86] \"La precipitacion maxima para el dia 23 de 10 del 2023 ocurrio a las 13 UTC y llovio de 0 mm.\"\n",
            " [87] \"La precipitacion maxima para el dia 23 de 10 del 2023 ocurrio a las 14 UTC y llovio de 0 mm.\"\n",
            " [88] \"La precipitacion maxima para el dia 23 de 10 del 2023 ocurrio a las 15 UTC y llovio de 0 mm.\"\n",
            " [89] \"La precipitacion maxima para el dia 23 de 10 del 2023 ocurrio a las 16 UTC y llovio de 0 mm.\"\n",
            " [90] \"La precipitacion maxima para el dia 23 de 10 del 2023 ocurrio a las 17 UTC y llovio de 0 mm.\"\n",
            " [91] \"La precipitacion maxima para el dia 23 de 10 del 2023 ocurrio a las 18 UTC y llovio de 0 mm.\"\n",
            " [92] \"La precipitacion maxima para el dia 23 de 10 del 2023 ocurrio a las 19 UTC y llovio de 0 mm.\"\n",
            " [93] \"La precipitacion maxima para el dia 23 de 10 del 2023 ocurrio a las 20 UTC y llovio de 0 mm.\"\n",
            " [94] \"La precipitacion maxima para el dia 23 de 10 del 2023 ocurrio a las 21 UTC y llovio de 0 mm.\"\n",
            " [95] \"La precipitacion maxima para el dia 23 de 10 del 2023 ocurrio a las 22 UTC y llovio de 0 mm.\"\n",
            " [96] \"La precipitacion maxima para el dia 23 de 10 del 2023 ocurrio a las 23 UTC y llovio de 0 mm.\"\n",
            " [97] \"La precipitacion maxima para el dia 24 de 10 del 2023 ocurrio a las 0 UTC y llovio de 0 mm.\" \n",
            " [98] \"La precipitacion maxima para el dia 24 de 10 del 2023 ocurrio a las 1 UTC y llovio de 0 mm.\" \n",
            " [99] \"La precipitacion maxima para el dia 24 de 10 del 2023 ocurrio a las 2 UTC y llovio de 0 mm.\" \n",
            "[100] \"La precipitacion maxima para el dia 24 de 10 del 2023 ocurrio a las 3 UTC y llovio de 0 mm.\" \n",
            "[101] \"La precipitacion maxima para el dia 24 de 10 del 2023 ocurrio a las 4 UTC y llovio de 0 mm.\" \n",
            "[102] \"La precipitacion maxima para el dia 24 de 10 del 2023 ocurrio a las 5 UTC y llovio de 0 mm.\" \n",
            "[103] \"La precipitacion maxima para el dia 24 de 10 del 2023 ocurrio a las 6 UTC y llovio de 0 mm.\" \n",
            "[104] \"La precipitacion maxima para el dia 24 de 10 del 2023 ocurrio a las 7 UTC y llovio de 0 mm.\" \n",
            "[105] \"La precipitacion maxima para el dia 24 de 10 del 2023 ocurrio a las 8 UTC y llovio de 0 mm.\" \n",
            "[106] \"La precipitacion maxima para el dia 24 de 10 del 2023 ocurrio a las 9 UTC y llovio de 0 mm.\" \n",
            "[107] \"La precipitacion maxima para el dia 24 de 10 del 2023 ocurrio a las 10 UTC y llovio de 0 mm.\"\n",
            "[108] \"La precipitacion maxima para el dia 24 de 10 del 2023 ocurrio a las 11 UTC y llovio de 0 mm.\"\n",
            "[109] \"La precipitacion maxima para el dia 24 de 10 del 2023 ocurrio a las 12 UTC y llovio de 0 mm.\"\n",
            "[110] \"La precipitacion maxima para el dia 24 de 10 del 2023 ocurrio a las 13 UTC y llovio de 0 mm.\"\n",
            "[111] \"La precipitacion maxima para el dia 24 de 10 del 2023 ocurrio a las 14 UTC y llovio de 0 mm.\"\n",
            "[112] \"La precipitacion maxima para el dia 24 de 10 del 2023 ocurrio a las 15 UTC y llovio de 0 mm.\"\n",
            "[113] \"La precipitacion maxima para el dia 24 de 10 del 2023 ocurrio a las 16 UTC y llovio de 0 mm.\"\n",
            "[114] \"La precipitacion maxima para el dia 24 de 10 del 2023 ocurrio a las 17 UTC y llovio de 0 mm.\"\n",
            "[115] \"La precipitacion maxima para el dia 24 de 10 del 2023 ocurrio a las 18 UTC y llovio de 0 mm.\"\n",
            "[116] \"La precipitacion maxima para el dia 24 de 10 del 2023 ocurrio a las 19 UTC y llovio de 0 mm.\"\n",
            "[117] \"La precipitacion maxima para el dia 24 de 10 del 2023 ocurrio a las 20 UTC y llovio de 0 mm.\"\n",
            "[118] \"La precipitacion maxima para el dia 24 de 10 del 2023 ocurrio a las 21 UTC y llovio de 0 mm.\"\n",
            "[119] \"La precipitacion maxima para el dia 24 de 10 del 2023 ocurrio a las 22 UTC y llovio de 0 mm.\"\n",
            "[120] \"La precipitacion maxima para el dia 24 de 10 del 2023 ocurrio a las 23 UTC y llovio de 0 mm.\"\n",
            "[121] \"La precipitacion maxima para el dia 25 de 10 del 2023 ocurrio a las 0 UTC y llovio de 0 mm.\" \n",
            "[122] \"La precipitacion maxima para el dia 25 de 10 del 2023 ocurrio a las 1 UTC y llovio de 0 mm.\" \n",
            "[123] \"La precipitacion maxima para el dia 25 de 10 del 2023 ocurrio a las 2 UTC y llovio de 0 mm.\" \n",
            "[124] \"La precipitacion maxima para el dia 25 de 10 del 2023 ocurrio a las 3 UTC y llovio de 0 mm.\" \n",
            "[125] \"La precipitacion maxima para el dia 25 de 10 del 2023 ocurrio a las 4 UTC y llovio de 0 mm.\" \n",
            "[126] \"La precipitacion maxima para el dia 25 de 10 del 2023 ocurrio a las 5 UTC y llovio de 0 mm.\" \n",
            "[127] \"La precipitacion maxima para el dia 25 de 10 del 2023 ocurrio a las 6 UTC y llovio de 0 mm.\" \n",
            "[128] \"La precipitacion maxima para el dia 25 de 10 del 2023 ocurrio a las 7 UTC y llovio de 0 mm.\" \n",
            "[129] \"La precipitacion maxima para el dia 25 de 10 del 2023 ocurrio a las 8 UTC y llovio de 0 mm.\" \n",
            "[130] \"La precipitacion maxima para el dia 25 de 10 del 2023 ocurrio a las 9 UTC y llovio de 0 mm.\" \n",
            "[131] \"La precipitacion maxima para el dia 25 de 10 del 2023 ocurrio a las 10 UTC y llovio de 0 mm.\"\n",
            "[132] \"La precipitacion maxima para el dia 25 de 10 del 2023 ocurrio a las 11 UTC y llovio de 0 mm.\"\n",
            "[133] \"La precipitacion maxima para el dia 25 de 10 del 2023 ocurrio a las 12 UTC y llovio de 0 mm.\"\n",
            "[134] \"La precipitacion maxima para el dia 25 de 10 del 2023 ocurrio a las 13 UTC y llovio de 0 mm.\"\n",
            "[135] \"La precipitacion maxima para el dia 25 de 10 del 2023 ocurrio a las 14 UTC y llovio de 0 mm.\"\n",
            "[136] \"La precipitacion maxima para el dia 25 de 10 del 2023 ocurrio a las 15 UTC y llovio de 0 mm.\"\n",
            "[137] \"La precipitacion maxima para el dia 25 de 10 del 2023 ocurrio a las 16 UTC y llovio de 0 mm.\"\n",
            "[138] \"La precipitacion maxima para el dia 25 de 10 del 2023 ocurrio a las 17 UTC y llovio de 0 mm.\"\n",
            "[139] \"La precipitacion maxima para el dia 25 de 10 del 2023 ocurrio a las 18 UTC y llovio de 0 mm.\"\n",
            "[140] \"La precipitacion maxima para el dia 25 de 10 del 2023 ocurrio a las 19 UTC y llovio de 0 mm.\"\n",
            "[141] \"La precipitacion maxima para el dia 25 de 10 del 2023 ocurrio a las 20 UTC y llovio de 0 mm.\"\n",
            "[142] \"La precipitacion maxima para el dia 25 de 10 del 2023 ocurrio a las 21 UTC y llovio de 0 mm.\"\n",
            "[143] \"La precipitacion maxima para el dia 25 de 10 del 2023 ocurrio a las 22 UTC y llovio de 0 mm.\"\n",
            "[144] \"La precipitacion maxima para el dia 25 de 10 del 2023 ocurrio a las 23 UTC y llovio de 0 mm.\"\n"
          ]
        }
      ]
    },
    {
      "cell_type": "markdown",
      "source": [
        "<b>No se olviden de guardar en Github!</b>\n",
        "\n",
        "Van a Archivo ⇒ Guardar una copia en Github. (Les va a pedir usuario y contraseña)\n",
        "\n",
        "Si alguna ves requieren clonar su carpeta en colab puede utilizar los comando de Git de esta manera."
      ],
      "metadata": {
        "id": "P-ps5r030WaD"
      }
    },
    {
      "cell_type": "code",
      "source": [
        "! git clone link #Inserten su link"
      ],
      "metadata": {
        "id": "304TJWEG0V3S"
      },
      "execution_count": null,
      "outputs": []
    }
  ]
}